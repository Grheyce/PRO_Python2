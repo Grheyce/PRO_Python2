{
 "cells": [
  {
   "cell_type": "code",
   "execution_count": 1,
   "id": "05e456a9-795c-48d7-98c4-a17ba08e279a",
   "metadata": {},
   "outputs": [],
   "source": [
    "import numpy as np"
   ]
  },
  {
   "cell_type": "code",
   "execution_count": 3,
   "id": "25b88d59-c599-4b77-a2ef-25afdbd75780",
   "metadata": {},
   "outputs": [],
   "source": [
    "X = np.random.randint(0, 5001, size=(1000, 20))"
   ]
  },
  {
   "cell_type": "code",
   "execution_count": 5,
   "id": "907c2385-58b9-4e1d-936f-f82f19ef4eb9",
   "metadata": {},
   "outputs": [
    {
     "data": {
      "text/plain": [
       "array([[1809, 1919, 4700, ..., 2510, 2261, 4141],\n",
       "       [3315, 3565,  761, ...,  911, 3663, 2245],\n",
       "       [ 196, 3928, 3173, ..., 2977, 3409,  520],\n",
       "       ...,\n",
       "       [ 233, 1403, 1530, ..., 1384,  838, 3134],\n",
       "       [ 301,  509,  619, ..., 3337, 4708, 4013],\n",
       "       [4511, 4102, 1149, ...,  655, 1832, 1086]])"
      ]
     },
     "execution_count": 5,
     "metadata": {},
     "output_type": "execute_result"
    }
   ],
   "source": [
    "X"
   ]
  },
  {
   "cell_type": "code",
   "execution_count": 7,
   "id": "4696d2ab-fc0f-413a-8af7-a2d04ab4994a",
   "metadata": {},
   "outputs": [
    {
     "data": {
      "text/plain": [
       "(1000, 20)"
      ]
     },
     "execution_count": 7,
     "metadata": {},
     "output_type": "execute_result"
    }
   ],
   "source": [
    "X.shape"
   ]
  },
  {
   "cell_type": "code",
   "execution_count": 9,
   "id": "ba2926aa-5372-4ca5-971f-9cd4c8b5edc4",
   "metadata": {},
   "outputs": [],
   "source": [
    "avg_cols = np.mean(X, axis=0)"
   ]
  },
  {
   "cell_type": "code",
   "execution_count": 11,
   "id": "790b7e1d-be72-4489-a2f5-902cce4b87ad",
   "metadata": {},
   "outputs": [
    {
     "data": {
      "text/plain": [
       "array([2386.512, 2466.169, 2492.783, 2426.221, 2438.413, 2574.067,\n",
       "       2504.261, 2462.811, 2464.884, 2541.308, 2516.227, 2515.751,\n",
       "       2501.025, 2519.91 , 2524.364, 2536.84 , 2527.405, 2422.768,\n",
       "       2468.701, 2484.813])"
      ]
     },
     "execution_count": 11,
     "metadata": {},
     "output_type": "execute_result"
    }
   ],
   "source": [
    "avg_cols"
   ]
  },
  {
   "cell_type": "code",
   "execution_count": 13,
   "id": "84e87a81-9262-48ae-af4d-92137895d89f",
   "metadata": {},
   "outputs": [
    {
     "data": {
      "text/plain": [
       "(20,)"
      ]
     },
     "execution_count": 13,
     "metadata": {},
     "output_type": "execute_result"
    }
   ],
   "source": [
    "avg_cols.shape"
   ]
  },
  {
   "cell_type": "code",
   "execution_count": 15,
   "id": "85b828c0-e561-410d-acec-d74f6a5c5cf9",
   "metadata": {},
   "outputs": [],
   "source": [
    "std_cols = np.std(X, axis=0)"
   ]
  },
  {
   "cell_type": "code",
   "execution_count": 17,
   "id": "098b89c8-b6ce-4abb-a07a-9fdd5d1b5250",
   "metadata": {},
   "outputs": [
    {
     "data": {
      "text/plain": [
       "array([1450.64898161, 1426.89748   , 1453.53997052, 1444.9748988 ,\n",
       "       1472.78904071, 1403.91866521, 1462.6763213 , 1443.62267483,\n",
       "       1410.12015961, 1398.43817065, 1430.77159235, 1422.70961795,\n",
       "       1482.25111246, 1438.82946102, 1437.5254563 , 1443.34593442,\n",
       "       1424.81397838, 1410.96762336, 1469.09765217, 1422.88621331])"
      ]
     },
     "execution_count": 17,
     "metadata": {},
     "output_type": "execute_result"
    }
   ],
   "source": [
    "std_cols"
   ]
  },
  {
   "cell_type": "code",
   "execution_count": 19,
   "id": "f0cf5f33-4364-4044-823f-c57f3fe4b8ab",
   "metadata": {},
   "outputs": [
    {
     "data": {
      "text/plain": [
       "(20,)"
      ]
     },
     "execution_count": 19,
     "metadata": {},
     "output_type": "execute_result"
    }
   ],
   "source": [
    "std_cols.shape"
   ]
  },
  {
   "cell_type": "code",
   "execution_count": 21,
   "id": "ad2a8861-07a9-4d15-a40a-349733ac6f35",
   "metadata": {},
   "outputs": [],
   "source": [
    "X_norm = (X - avg_cols) / std_cols"
   ]
  },
  {
   "cell_type": "code",
   "execution_count": 23,
   "id": "e139da27-d685-414b-ae76-76d0a4c3a10c",
   "metadata": {},
   "outputs": [
    {
     "data": {
      "text/plain": [
       "array([[-0.39810596, -0.38346763,  1.51851139, ...,  0.06182424,\n",
       "        -0.14137998,  1.16396307],\n",
       "       [ 0.64005008,  0.77008406, -1.19142441, ..., -1.0714406 ,\n",
       "         0.81294732, -0.16853983],\n",
       "       [-1.51002209,  1.02448215,  0.46797268, ...,  0.39280278,\n",
       "         0.64005207, -1.38086446],\n",
       "       ...,\n",
       "       [-1.48451626, -0.74509137, -0.66237119, ..., -0.73620966,\n",
       "        -1.11000177,  0.4562466 ],\n",
       "       [-1.43764069, -1.37162552, -1.28911694, ...,  0.64794683,\n",
       "         1.52426831,  1.07400506],\n",
       "       [ 1.46450866,  1.14642504, -0.92448988, ..., -1.25287637,\n",
       "        -0.43339597, -0.98308142]])"
      ]
     },
     "execution_count": 23,
     "metadata": {},
     "output_type": "execute_result"
    }
   ],
   "source": [
    "X_norm"
   ]
  },
  {
   "cell_type": "code",
   "execution_count": 31,
   "id": "a7df1145-d596-4acd-b74b-f656f25558a1",
   "metadata": {},
   "outputs": [],
   "source": [
    "avg_X_norm = np.mean(X_norm)"
   ]
  },
  {
   "cell_type": "code",
   "execution_count": 33,
   "id": "a9715aea-b824-406a-a3ba-d9ad8a37dee7",
   "metadata": {},
   "outputs": [
    {
     "data": {
      "text/plain": [
       "-2.3092638912203255e-17"
      ]
     },
     "execution_count": 33,
     "metadata": {},
     "output_type": "execute_result"
    }
   ],
   "source": [
    "avg_X_norm"
   ]
  },
  {
   "cell_type": "code",
   "execution_count": 35,
   "id": "0e39492c-2035-45dd-8d35-4bb87e970bcd",
   "metadata": {},
   "outputs": [],
   "source": [
    "min = np.min(X_norm, axis = 0)"
   ]
  },
  {
   "cell_type": "code",
   "execution_count": 37,
   "id": "f290fb32-8821-4760-9e51-7a4d9e52fef4",
   "metadata": {},
   "outputs": [
    {
     "data": {
      "text/plain": [
       "array([-1.64513403, -1.71783119, -1.71428585, -1.67492252, -1.65292716,\n",
       "       -1.83348727, -1.7121088 , -1.70460817, -1.74232244, -1.81653222,\n",
       "       -1.75445684, -1.76195547, -1.68056882, -1.74927611, -1.73587465,\n",
       "       -1.75761052, -1.77314726, -1.71497061, -1.67769719, -1.74631884])"
      ]
     },
     "execution_count": 37,
     "metadata": {},
     "output_type": "execute_result"
    }
   ],
   "source": [
    "min"
   ]
  },
  {
   "cell_type": "code",
   "execution_count": 39,
   "id": "608887aa-6c39-4701-a6c3-49659944d703",
   "metadata": {},
   "outputs": [],
   "source": [
    "avg_min = np.mean(min)"
   ]
  },
  {
   "cell_type": "code",
   "execution_count": 41,
   "id": "e5abcaa3-9658-460e-9a40-8087f67ae549",
   "metadata": {},
   "outputs": [
    {
     "data": {
      "text/plain": [
       "-1.728301797169852"
      ]
     },
     "execution_count": 41,
     "metadata": {},
     "output_type": "execute_result"
    }
   ],
   "source": [
    "avg_min"
   ]
  },
  {
   "cell_type": "code",
   "execution_count": 43,
   "id": "cd4a62fd-925d-41f8-b3d3-9de4c0cb13f9",
   "metadata": {},
   "outputs": [],
   "source": [
    "max = np.max(X_norm, axis = 0)"
   ]
  },
  {
   "cell_type": "code",
   "execution_count": 45,
   "id": "49916c73-9716-44d7-b705-663b960eccbd",
   "metadata": {},
   "outputs": [
    {
     "data": {
      "text/plain": [
       "array([1.79884178, 1.77155755, 1.72421609, 1.77842466, 1.73859727,\n",
       "       1.72726032, 1.70423146, 1.75612994, 1.79070981, 1.75602472,\n",
       "       1.73526859, 1.74473341, 1.68255903, 1.72368586, 1.71241211,\n",
       "       1.70656247, 1.73467908, 1.82160948, 1.72234909, 1.75993483])"
      ]
     },
     "execution_count": 45,
     "metadata": {},
     "output_type": "execute_result"
    }
   ],
   "source": [
    "max"
   ]
  },
  {
   "cell_type": "code",
   "execution_count": 47,
   "id": "9b515a91-706b-471a-856c-4ae3605df784",
   "metadata": {},
   "outputs": [],
   "source": [
    "avg_max = np.mean(max)"
   ]
  },
  {
   "cell_type": "code",
   "execution_count": 49,
   "id": "9168c627-51e0-4df2-892d-1e5218dafbc8",
   "metadata": {},
   "outputs": [
    {
     "data": {
      "text/plain": [
       "1.744489376775951"
      ]
     },
     "execution_count": 49,
     "metadata": {},
     "output_type": "execute_result"
    }
   ],
   "source": [
    "avg_max"
   ]
  },
  {
   "cell_type": "code",
   "execution_count": 53,
   "id": "4a480b3c-bb23-4416-ae9b-434852b17dd5",
   "metadata": {},
   "outputs": [],
   "source": [
    "#We create a random permutation of integers 0 to 4\n",
    "row_indices = np.random.permutation(X_norm)"
   ]
  },
  {
   "cell_type": "code",
   "execution_count": 55,
   "id": "f782ecfa-91fc-493a-98ee-cc44b67db731",
   "metadata": {},
   "outputs": [
    {
     "data": {
      "text/plain": [
       "array([[ 0.24781184,  0.13724252, -0.7972144 , ..., -1.03246026,\n",
       "        -1.22844182,  0.91657856],\n",
       "       [-0.73795385,  1.43025762,  0.31386615, ..., -0.98922752,\n",
       "        -0.84249063, -0.27606775],\n",
       "       [ 1.5079375 ,  0.85768671,  1.67468185, ...,  0.96404196,\n",
       "         0.43788716,  1.4507042 ],\n",
       "       ...,\n",
       "       [-0.66419376, -1.0401371 ,  1.30042313, ...,  1.12846813,\n",
       "         1.18392334,  0.8413793 ],\n",
       "       [ 0.5752515 ,  0.81283415,  1.51438354, ..., -0.51508482,\n",
       "         1.48819175, -0.22616917],\n",
       "       [-1.20808826, -1.02331739,  0.20585399, ..., -0.1040194 ,\n",
       "         0.57470584, -0.52626344]])"
      ]
     },
     "execution_count": 55,
     "metadata": {},
     "output_type": "execute_result"
    }
   ],
   "source": [
    "row_indices"
   ]
  },
  {
   "cell_type": "code",
   "execution_count": 59,
   "id": "b38307e7-225e-4db8-86e2-30c3fdff19b2",
   "metadata": {},
   "outputs": [
    {
     "data": {
      "text/plain": [
       "(1000, 20)"
      ]
     },
     "execution_count": 59,
     "metadata": {},
     "output_type": "execute_result"
    }
   ],
   "source": [
    "row_indices.shape"
   ]
  },
  {
   "cell_type": "code",
   "execution_count": 85,
   "id": "5be95d1a-ca4d-4e34-a5ae-129fc4a338af",
   "metadata": {},
   "outputs": [],
   "source": [
    "# Create a Training Set\n",
    "X_train = int(len(row_indices) * 0.6)"
   ]
  },
  {
   "cell_type": "code",
   "execution_count": 87,
   "id": "708c2856-f7e9-49c1-b7b6-d05bf42349ba",
   "metadata": {},
   "outputs": [
    {
     "data": {
      "text/plain": [
       "600"
      ]
     },
     "execution_count": 87,
     "metadata": {},
     "output_type": "execute_result"
    }
   ],
   "source": [
    "X_train"
   ]
  },
  {
   "cell_type": "code",
   "execution_count": 65,
   "id": "9ced3e2a-fce7-4f92-abb8-4883baa53ce6",
   "metadata": {},
   "outputs": [],
   "source": [
    "# Create a Cross Validation Set\n",
    "X_crossVal = int(len(row_indices) * 0.2)"
   ]
  },
  {
   "cell_type": "code",
   "execution_count": 71,
   "id": "59d089cb-da7e-4a69-8f55-3b13bef232dd",
   "metadata": {},
   "outputs": [
    {
     "data": {
      "text/plain": [
       "200"
      ]
     },
     "execution_count": 71,
     "metadata": {},
     "output_type": "execute_result"
    }
   ],
   "source": [
    "X_crossVal"
   ]
  },
  {
   "cell_type": "code",
   "execution_count": 67,
   "id": "16f43846-188d-4384-b63f-758bf692e473",
   "metadata": {},
   "outputs": [],
   "source": [
    "# Create a Test Set\n",
    "X_test = int(len(row_indices) * 0.2)"
   ]
  },
  {
   "cell_type": "code",
   "execution_count": 73,
   "id": "8d556f91-2310-45cc-b860-966f52ae06c9",
   "metadata": {},
   "outputs": [
    {
     "data": {
      "text/plain": [
       "200"
      ]
     },
     "execution_count": 73,
     "metadata": {},
     "output_type": "execute_result"
    }
   ],
   "source": [
    "X_test"
   ]
  },
  {
   "cell_type": "code",
   "execution_count": null,
   "id": "d9b33679-5ed9-4935-8976-8845b98a730f",
   "metadata": {},
   "outputs": [],
   "source": []
  }
 ],
 "metadata": {
  "kernelspec": {
   "display_name": "Python 3 (ipykernel)",
   "language": "python",
   "name": "python3"
  },
  "language_info": {
   "codemirror_mode": {
    "name": "ipython",
    "version": 3
   },
   "file_extension": ".py",
   "mimetype": "text/x-python",
   "name": "python",
   "nbconvert_exporter": "python",
   "pygments_lexer": "ipython3",
   "version": "3.12.4"
  }
 },
 "nbformat": 4,
 "nbformat_minor": 5
}
