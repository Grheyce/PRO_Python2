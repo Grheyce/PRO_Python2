{
 "cells": [
  {
   "cell_type": "code",
   "execution_count": 9,
   "id": "048e6144-15e0-41a2-b71d-06dbb16dd003",
   "metadata": {},
   "outputs": [],
   "source": [
    "#Use Broadcasting to create a 4 x 4 ndarray that has its first column full of `1s`, \n",
    "#its second column full of `2s`, its third column full of `3s`, etc"
   ]
  },
  {
   "cell_type": "code",
   "execution_count": 11,
   "id": "2e3491b5-422d-4cef-a3a3-bdf2f37af792",
   "metadata": {},
   "outputs": [],
   "source": [
    "import numpy as np\n",
    "x = np.array([1,2,3,4])"
   ]
  },
  {
   "cell_type": "code",
   "execution_count": 13,
   "id": "a7697b75-d29e-4d4f-b47c-db577681e5c9",
   "metadata": {},
   "outputs": [
    {
     "data": {
      "text/plain": [
       "array([1, 2, 3, 4])"
      ]
     },
     "execution_count": 13,
     "metadata": {},
     "output_type": "execute_result"
    }
   ],
   "source": [
    "x"
   ]
  },
  {
   "cell_type": "code",
   "execution_count": 16,
   "id": "b39bbfff-49c9-4812-90fc-b8d06f79ca2b",
   "metadata": {},
   "outputs": [],
   "source": [
    "x2 = x.reshape(4,1)"
   ]
  },
  {
   "cell_type": "code",
   "execution_count": 18,
   "id": "84f07150-ca2f-4b1c-a572-2a8ce8c79684",
   "metadata": {},
   "outputs": [
    {
     "data": {
      "text/plain": [
       "array([[1],\n",
       "       [2],\n",
       "       [3],\n",
       "       [4]])"
      ]
     },
     "execution_count": 18,
     "metadata": {},
     "output_type": "execute_result"
    }
   ],
   "source": [
    "x2"
   ]
  },
  {
   "cell_type": "code",
   "execution_count": 21,
   "id": "39f45ced-5ae4-4dce-a5db-9b4b408b203c",
   "metadata": {},
   "outputs": [],
   "source": [
    "result = x2*np.ones((1, 4), dtype=int)"
   ]
  },
  {
   "cell_type": "code",
   "execution_count": 23,
   "id": "2a41af9a-e3a4-4570-a114-13d36fe89b62",
   "metadata": {},
   "outputs": [
    {
     "data": {
      "text/plain": [
       "array([[1, 1, 1, 1],\n",
       "       [2, 2, 2, 2],\n",
       "       [3, 3, 3, 3],\n",
       "       [4, 4, 4, 4]])"
      ]
     },
     "execution_count": 23,
     "metadata": {},
     "output_type": "execute_result"
    }
   ],
   "source": [
    "result"
   ]
  },
  {
   "cell_type": "code",
   "execution_count": null,
   "id": "4273e06c-feba-4313-8b82-51a02fe225fd",
   "metadata": {},
   "outputs": [],
   "source": []
  }
 ],
 "metadata": {
  "kernelspec": {
   "display_name": "Python 3 (ipykernel)",
   "language": "python",
   "name": "python3"
  },
  "language_info": {
   "codemirror_mode": {
    "name": "ipython",
    "version": 3
   },
   "file_extension": ".py",
   "mimetype": "text/x-python",
   "name": "python",
   "nbconvert_exporter": "python",
   "pygments_lexer": "ipython3",
   "version": "3.12.4"
  }
 },
 "nbformat": 4,
 "nbformat_minor": 5
}
