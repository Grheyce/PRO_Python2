


import numpy as np

# Replace None with appropriate code
X = np.linspace(2,32,16).reshape(4,4)





import numpy as np

# TODO: replace None with appropriate code
# Create a 5 x 5 ndarray with consecutive integers from 1 to 25 (inclusive).
X = None

# TODO: replace None with appropriate code
# Use Boolean indexing to pick out only the odd numbers in the array
Y = None



