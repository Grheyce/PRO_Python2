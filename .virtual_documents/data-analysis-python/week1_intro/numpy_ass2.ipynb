"""
Use Broadcasting to create a 4 x 4 ndarray that has its first column full of `1s`, 
its second column full of `2s`, its third column full of `3s`, etc
"""


import numpy as np
x = np.array([1,2,3,4])


x


x2 = x.reshape(4,1)


x2


result = x2*np.ones((1, 4), dtype=int)


result
