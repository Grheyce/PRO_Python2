import numpy as np


# Replace None with appropriate code
x = np.linspace(2,32,16)


x.shape


x.reshape(4,4)



