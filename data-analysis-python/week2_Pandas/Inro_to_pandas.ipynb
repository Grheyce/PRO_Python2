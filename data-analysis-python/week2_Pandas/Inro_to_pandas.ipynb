{
 "cells": [
  {
   "cell_type": "markdown",
   "id": "68e89519-c4d8-4547-b447-64d6319390ac",
   "metadata": {},
   "source": [
    "Pandas is a package for data manipulation and analysis in Python. The name Pandas is derived from the econometrics term Panel Data. Pandas incorporates two additional data structures into Python, namely `Pandas Series` and `Pandas DataFrame`. These data structures allow us to work with labeled and relational data in an easy and intuitive manner.\n",
    "\n",
    "Make sure to check out the Pandas Documentation: [Pandas Documentation](https://pandas.pydata.org/pandas-docs/stable/)"
   ]
  },
  {
   "cell_type": "markdown",
   "id": "9a689c28-54c2-495d-9cba-449b2fce89cd",
   "metadata": {},
   "source": [
    "Some of the features that makes Pandas an excellent package for data analysis:\n",
    "\n",
    "- Allows the use of labels for rows and columns\n",
    "- Can calculate rolling statistics on time series data\n",
    "- Easy handling of NaN values\n",
    "- Is able to load data of different formats into DataFrames\n",
    "- Can join and merge different datasets together\n",
    "- It integrates with NumPy and Matplotlib"
   ]
  },
  {
   "cell_type": "code",
   "execution_count": null,
   "id": "cf8c942d-c2f0-4944-9cfb-35efee82dbc8",
   "metadata": {},
   "outputs": [],
   "source": []
  }
 ],
 "metadata": {
  "kernelspec": {
   "display_name": "Python 3 (ipykernel)",
   "language": "python",
   "name": "python3"
  },
  "language_info": {
   "codemirror_mode": {
    "name": "ipython",
    "version": 3
   },
   "file_extension": ".py",
   "mimetype": "text/x-python",
   "name": "python",
   "nbconvert_exporter": "python",
   "pygments_lexer": "ipython3",
   "version": "3.12.4"
  }
 },
 "nbformat": 4,
 "nbformat_minor": 5
}
