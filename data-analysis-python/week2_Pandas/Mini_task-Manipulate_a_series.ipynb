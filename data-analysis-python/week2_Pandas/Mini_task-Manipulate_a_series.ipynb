{
 "cells": [
  {
   "cell_type": "markdown",
   "id": "7d60274f-a6f9-4dd3-982a-a50d55a96756",
   "metadata": {},
   "source": [
    "## sun planets"
   ]
  },
  {
   "cell_type": "code",
   "execution_count": 26,
   "id": "599e3ee1-464b-4427-b566-b44ca33b89ed",
   "metadata": {},
   "outputs": [],
   "source": [
    "import pandas as pd\n",
    "\n",
    "# DO NOT CHANGE THE VARIABLE NAMES\n",
    "\n",
    "# Given a list representing a few planets\n",
    "planets = ['Earth', 'Saturn', 'Venus', 'Mars', 'Jupiter']\n",
    "\n",
    "# Given another list representing the distance of each of these planets from the Sun\n",
    "# The distance from the Sun is in units of 10^6 km\n",
    "distance_from_sun = [149.6, 1433.5, 108.2, 227.9, 778.6]"
   ]
  },
  {
   "cell_type": "code",
   "execution_count": 28,
   "id": "0207899e-56a0-49d5-b136-ce464f9bbd92",
   "metadata": {},
   "outputs": [],
   "source": [
    "# TO DO: Create a Pandas Series \"dist_planets\" using the lists above, representing the distance of the planet from the Sun.\n",
    "# Use the `distance_from_sun` as your data, and `planets` as your index.\n",
    "dist_planets = 0\n"
   ]
  },
  {
   "cell_type": "code",
   "execution_count": 30,
   "id": "726f4a57-e290-47e2-9564-7d904307e746",
   "metadata": {},
   "outputs": [],
   "source": [
    "# TO DO: Calculate the time (minutes) it takes light from the Sun to reach each planet. \n",
    "# You can do this by dividing each planet's distance from the Sun by the speed of light.\n",
    "# Use the speed of light, c = 18, since light travels 18 x 10^6 km/minute.\n",
    "time_light = None\n",
    " "
   ]
  },
  {
   "cell_type": "code",
   "execution_count": 32,
   "id": "28dbc1a8-03d2-49ab-b906-f9c118ba7aaf",
   "metadata": {},
   "outputs": [],
   "source": [
    "# TO DO: Use Boolean indexing to select only those planets for which sunlight takes less\n",
    "# than 40 minutes to reach them.\n",
    "close_planets = 0"
   ]
  },
  {
   "cell_type": "code",
   "execution_count": null,
   "id": "8c2cd693-481f-4acd-b64e-307493b68a5e",
   "metadata": {},
   "outputs": [],
   "source": []
  }
 ],
 "metadata": {
  "kernelspec": {
   "display_name": "Python 3 (ipykernel)",
   "language": "python",
   "name": "python3"
  },
  "language_info": {
   "codemirror_mode": {
    "name": "ipython",
    "version": 3
   },
   "file_extension": ".py",
   "mimetype": "text/x-python",
   "name": "python",
   "nbconvert_exporter": "python",
   "pygments_lexer": "ipython3",
   "version": "3.12.4"
  }
 },
 "nbformat": 4,
 "nbformat_minor": 5
}
