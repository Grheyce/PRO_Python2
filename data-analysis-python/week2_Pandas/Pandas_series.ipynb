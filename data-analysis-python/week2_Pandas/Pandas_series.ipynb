{
 "cells": [
  {
   "cell_type": "markdown",
   "id": "531a740c-c726-4897-a0da-ce0d89ffd65c",
   "metadata": {},
   "source": [
    "## Creating pandas Series"
   ]
  },
  {
   "cell_type": "markdown",
   "id": "9a19984c-d1b5-44d2-9841-382e39c33766",
   "metadata": {},
   "source": [
    "A Pandas series is a one-dimensional array-like object that can hold many data types, such as numbers or strings, and has an option to provide axis labels.\n",
    "\n",
    "#### Difference between NumPy ndarrays and Pandas Series\n",
    "1. One of the main differences between Pandas Series and NumPy ndarrays is that you can assign an index label to each element in the Pandas Series. In other words, you can name the indices of your Pandas Series anything you want.\n",
    "2. Another big difference between Pandas Series and NumPy ndarrays is that Pandas Series can hold data of different data types.\n",
    "\n",
    "Let's start by importing Pandas into Python. It has become a convention to `import Pandas as pd`"
   ]
  },
  {
   "cell_type": "code",
   "execution_count": 5,
   "id": "6318fa44-70f3-4cfa-8162-c70d2eb9777b",
   "metadata": {},
   "outputs": [],
   "source": [
    "import pandas as pd"
   ]
  },
  {
   "cell_type": "markdown",
   "id": "5464d086-40b4-4904-bd50-b8a18148d36c",
   "metadata": {},
   "source": [
    "You can create Pandas Series by using the command `pd.Series(data, index)`, where `index` is a list of index labels."
   ]
  },
  {
   "cell_type": "markdown",
   "id": "5d49f5f2-0832-48cc-9fc8-d8143ed4020e",
   "metadata": {},
   "source": [
    "#### Example 1 - Create a Series"
   ]
  },
  {
   "cell_type": "code",
   "execution_count": 11,
   "id": "5d747351-0d13-4de9-856b-88e376e84147",
   "metadata": {},
   "outputs": [
    {
     "data": {
      "text/plain": [
       "eggs       30\n",
       "apples      6\n",
       "milk      Yes\n",
       "bread      No\n",
       "dtype: object"
      ]
     },
     "execution_count": 11,
     "metadata": {},
     "output_type": "execute_result"
    }
   ],
   "source": [
    "# We create a Pandas Series that stores a grocery list. I will include your apples.\n",
    "groceries = pd.Series(data = [30, 6, 'Yes', 'No'], index = ['eggs', 'apples', 'milk', 'bread'])\n",
    "\n",
    "# We display the Groceries Pandas Series\n",
    "groceries"
   ]
  },
  {
   "cell_type": "markdown",
   "id": "173a1945-b48a-4738-ac4b-f2a074f25bce",
   "metadata": {},
   "source": [
    "#### Example 2 - Print attributes - shape, ndim,and size"
   ]
  },
  {
   "cell_type": "code",
   "execution_count": 16,
   "id": "412ef157-3cb5-4304-8e3e-c08d50183090",
   "metadata": {},
   "outputs": [
    {
     "name": "stdout",
     "output_type": "stream",
     "text": [
      "Groceries has shape: (4,)\n",
      "Groceries has dimension: 1\n",
      "Groceries has a total of 4 elements\n"
     ]
    }
   ],
   "source": [
    "# We print some information about Groceries\n",
    "print('Groceries has shape:', groceries.shape)\n",
    "print('Groceries has dimension:', groceries.ndim)\n",
    "print('Groceries has a total of', groceries.size, 'elements')"
   ]
  },
  {
   "cell_type": "markdown",
   "id": "f59e8b9e-fb91-48c8-82f6-cedb152f0a6b",
   "metadata": {},
   "source": [
    "#### Example 3 - Print attributes - values, and index"
   ]
  },
  {
   "cell_type": "code",
   "execution_count": 19,
   "id": "09cb87e2-b1fa-43d7-a22e-3e14dc6de8f9",
   "metadata": {},
   "outputs": [
    {
     "name": "stdout",
     "output_type": "stream",
     "text": [
      "The data in Groceries is: [30 6 'Yes' 'No']\n",
      "The index of Groceries is: Index(['eggs', 'apples', 'milk', 'bread'], dtype='object')\n"
     ]
    }
   ],
   "source": [
    "# We print the index and data of Groceries\n",
    "print('The data in Groceries is:', groceries.values)\n",
    "print('The index of Groceries is:', groceries.index)"
   ]
  },
  {
   "cell_type": "markdown",
   "id": "8eabf619-113e-4066-bf90-75a86e7c4feb",
   "metadata": {},
   "source": [
    "#### Example 4 - Check if an index is available in the given Series"
   ]
  },
  {
   "cell_type": "code",
   "execution_count": 22,
   "id": "465d3d8d-fe3f-4b97-aa99-df7917417a0a",
   "metadata": {},
   "outputs": [
    {
     "name": "stdout",
     "output_type": "stream",
     "text": [
      "Is bananas an index label in Groceries: False\n",
      "Is bread an index label in Groceries: True\n"
     ]
    }
   ],
   "source": [
    "# We check whether bananas is a food item (an index) in Groceries\n",
    "x = 'bananas' in groceries\n",
    "\n",
    "# We check whether bread is a food item (an index) in Groceries\n",
    "y = 'bread' in groceries\n",
    "\n",
    "# We print the results\n",
    "print('Is bananas an index label in Groceries:', x)\n",
    "print('Is bread an index label in Groceries:', y)"
   ]
  },
  {
   "cell_type": "markdown",
   "id": "d3f7a28b-2580-4310-a027-13173a840b03",
   "metadata": {},
   "source": [
    "You can read more on this here: [Series documentation](https://pandas.pydata.org/pandas-docs/stable/reference/series.html)"
   ]
  },
  {
   "cell_type": "markdown",
   "id": "d6b11533-ce91-4858-bd3d-32a264293961",
   "metadata": {},
   "source": [
    "## Accessing and Deleting Elements in pandas Series"
   ]
  },
  {
   "cell_type": "markdown",
   "id": "83530aa4-96a8-4e33-83c9-c880c17a3b86",
   "metadata": {},
   "source": [
    "Pandas Series allows us to access data in many different ways. Elements can be accessed using *index labels* or *numerical indices* inside square brackets, [ ], similar to how we access elements in NumPy ndarrays. We can use both positive and negative integers to access data from the beginning or from the end of the Series, respectively.\n",
    "\n",
    "Since we can access elements in various ways, in order to remove any ambiguity to whether we are referring to an index label or numerical index, Pandas Series have two attributes, `.loc` and `.iloc` to explicitly state what we mean. The attribute `.loc` stands for *location* and it is used to explicitly state that we are using a labeled index. Similarly, the attribute `.iloc` stands for *integer location* and it is used to explicitly state that we are using a numerical index. "
   ]
  },
  {
   "cell_type": "markdown",
   "id": "039ccfb7-48cc-4e47-9811-9194652c5558",
   "metadata": {},
   "source": [
    "#### Example 1. Access elements using index labels"
   ]
  },
  {
   "cell_type": "code",
   "execution_count": 40,
   "id": "3a05cc2c-e182-4b59-b991-b78c09829b5b",
   "metadata": {},
   "outputs": [
    {
     "name": "stdout",
     "output_type": "stream",
     "text": [
      "How many eggs do we need to buy: 30\n",
      "\n",
      "Do we need milk and bread:\n",
      " milk     Yes\n",
      "bread     No\n",
      "dtype: object\n",
      "\n",
      "How many eggs and apples do we need to buy:\n",
      " eggs      30\n",
      "apples     6\n",
      "dtype: object\n",
      "\n",
      "How many eggs and apples do we need to buy:\n",
      " eggs      30\n",
      "apples     6\n",
      "dtype: object\n",
      "\n",
      "Do we need bread:\n",
      " bread    No\n",
      "dtype: object\n",
      "\n",
      "How many eggs do we need to buy: 30\n",
      "\n",
      "Do we need milk and bread:\n",
      " milk     Yes\n",
      "bread     No\n",
      "dtype: object\n"
     ]
    }
   ],
   "source": [
    "# We access elements in Groceries using index labels:\n",
    "\n",
    "# We use a single index label\n",
    "print('How many eggs do we need to buy:', groceries['eggs'])\n",
    "print()\n",
    "\n",
    "# we can access multiple index labels\n",
    "print('Do we need milk and bread:\\n', groceries[['milk', 'bread']]) \n",
    "print()\n",
    "\n",
    "# we use loc to access multiple index labels\n",
    "print('How many eggs and apples do we need to buy:\\n', groceries.loc[['eggs', 'apples']]) \n",
    "print()\n",
    "\n",
    "# We access elements in Groceries using numerical indices:\n",
    "\n",
    "# we use multiple numerical indices\n",
    "print('How many eggs and apples do we need to buy:\\n',  groceries.iloc[[0, 1]]) \n",
    "print()\n",
    "\n",
    "# We use a negative numerical index\n",
    "print('Do we need bread:\\n', groceries.iloc[[-1]]) \n",
    "print()\n",
    "\n",
    "# We use a single numerical index\n",
    "print('How many eggs do we need to buy:', groceries.iloc[0]) \n",
    "print()\n",
    "# we use iloc to access multiple numerical indices\n",
    "print('Do we need milk and bread:\\n', groceries.iloc[[2, 3]])"
   ]
  },
  {
   "cell_type": "markdown",
   "id": "36bd6352-007c-4d7c-bafd-1f68a0f44edd",
   "metadata": {},
   "source": [
    "Pandas Series are also mutable like NumPy ndarrays, which means we can change the elements of a Pandas Series after it has been created. For example, let's change the number of eggs we need to buy from our grocery list"
   ]
  },
  {
   "cell_type": "markdown",
   "id": "b4092913-d56e-44a1-ba7c-82dc774f9506",
   "metadata": {},
   "source": [
    "#### Example 2. Mutate elements using index labels"
   ]
  },
  {
   "cell_type": "code",
   "execution_count": 45,
   "id": "6b72c946-b11a-47db-ab9e-e3049256492e",
   "metadata": {},
   "outputs": [
    {
     "name": "stdout",
     "output_type": "stream",
     "text": [
      "Original Grocery List:\n",
      " eggs       30\n",
      "apples      6\n",
      "milk      Yes\n",
      "bread      No\n",
      "dtype: object\n",
      "\n",
      "Modified Grocery List:\n",
      " eggs        2\n",
      "apples      6\n",
      "milk      Yes\n",
      "bread      No\n",
      "dtype: object\n"
     ]
    }
   ],
   "source": [
    "# We display the original grocery list\n",
    "print('Original Grocery List:\\n', groceries)\n",
    "\n",
    "# We change the number of eggs to 2\n",
    "groceries['eggs'] = 2\n",
    "\n",
    "# We display the changed grocery list\n",
    "print()\n",
    "print('Modified Grocery List:\\n', groceries)"
   ]
  },
  {
   "cell_type": "markdown",
   "id": "25f3e6d2-9abb-432c-b919-f10695efb599",
   "metadata": {},
   "source": [
    "We can also delete items from a Pandas Series by using the `.drop()` method. The `Series.drop(label)` method removes the given label from the given `Series`. \n",
    "\n",
    "_Note: The `Series.drop(label)` method drops elements from the Series out-of-place, meaning that it doesn't change the original Series being modified._\n",
    "\n",
    "#### Example 3. Delete elements out-of-place using `drop()`"
   ]
  },
  {
   "cell_type": "code",
   "execution_count": 52,
   "id": "300e7eac-4273-4da1-bf24-4ed2e3ed6cde",
   "metadata": {},
   "outputs": [
    {
     "name": "stdout",
     "output_type": "stream",
     "text": [
      "Original Grocery List:\n",
      " eggs        2\n",
      "apples      6\n",
      "milk      Yes\n",
      "bread      No\n",
      "dtype: object\n",
      "\n",
      "We remove apples (out of place):\n",
      " eggs       2\n",
      "milk     Yes\n",
      "bread     No\n",
      "dtype: object\n",
      "\n",
      "Grocery List after removing apples out of place:\n",
      " eggs        2\n",
      "apples      6\n",
      "milk      Yes\n",
      "bread      No\n",
      "dtype: object\n"
     ]
    }
   ],
   "source": [
    "# We display the original grocery list\n",
    "print('Original Grocery List:\\n', groceries)\n",
    "\n",
    "# We remove apples from our grocery list. The drop function removes elements out of place\n",
    "print()\n",
    "print('We remove apples (out of place):\\n', groceries.drop('apples'))\n",
    "\n",
    "# When we remove elements out of place the original Series remains intact. To see this\n",
    "# we display our grocery list again\n",
    "print()\n",
    "print('Grocery List after removing apples out of place:\\n', groceries)"
   ]
  },
  {
   "cell_type": "markdown",
   "id": "afebf069-f5fe-401d-8da6-3e4f1403ab35",
   "metadata": {},
   "source": [
    "We can delete items from a Pandas Series in place by setting the keyword inplace to True in the .drop() method. Let's see an example:\n",
    "\n",
    "#### Example 4. Delete elements in-place using `drop()`"
   ]
  },
  {
   "cell_type": "code",
   "execution_count": 74,
   "id": "d9169e42-a19d-4894-a4af-965dfca6244e",
   "metadata": {},
   "outputs": [
    {
     "name": "stdout",
     "output_type": "stream",
     "text": [
      "Original Grocery List:\n",
      " eggs        2\n",
      "apples      6\n",
      "milk      Yes\n",
      "bread      No\n",
      "dtype: object\n",
      "\n",
      "Grocery List after removing apples in place:\n",
      " eggs       2\n",
      "milk     Yes\n",
      "bread     No\n",
      "dtype: object\n"
     ]
    }
   ],
   "source": [
    "# We display the original grocery list\n",
    "print('Original Grocery List:\\n', groceries)\n",
    "\n",
    "# We remove apples from our grocery list in place by setting the inplace keyword to True\n",
    "groceries.drop('apples', inplace = True)\n",
    "\n",
    "# When we remove elements in place the original Series its modified. To see this\n",
    "# we display our grocery list again\n",
    "print()\n",
    "print('Grocery List after removing apples in place:\\n', groceries)"
   ]
  },
  {
   "cell_type": "markdown",
   "id": "804dbafe-319d-427a-bae9-675ea0ae1326",
   "metadata": {},
   "source": [
    "#### Additional Reading - Pandas Series Documentation\n",
    "- [Reindexing / selection / label manipulation](https://pandas.pydata.org/pandas-docs/stable/reference/series.html#reindexing-selection-label-manipulation)\n",
    "- [Indexing, and iteration](https://pandas.pydata.org/pandas-docs/stable/reference/series.html#indexing-iteration)"
   ]
  },
  {
   "cell_type": "markdown",
   "id": "7d60274f-a6f9-4dd3-982a-a50d55a96756",
   "metadata": {},
   "source": [
    "## Arithmetic Operations on pandas Series"
   ]
  },
  {
   "cell_type": "code",
   "execution_count": 5,
   "id": "0207899e-56a0-49d5-b136-ce464f9bbd92",
   "metadata": {},
   "outputs": [
    {
     "data": {
      "text/plain": [
       "apples     10\n",
       "oranges     6\n",
       "bananas     3\n",
       "dtype: int64"
      ]
     },
     "execution_count": 5,
     "metadata": {},
     "output_type": "execute_result"
    }
   ],
   "source": [
    "# We create a Pandas Series that stores a grocery list of just fruits\n",
    "fruits= pd.Series(data = [10, 6, 3,], index = ['apples', 'oranges', 'bananas'])\n",
    "\n",
    "# We display the fruits Pandas Series\n",
    "fruits"
   ]
  },
  {
   "cell_type": "markdown",
   "id": "186bf1c6-ecba-4e50-947b-e9ed509d1ae3",
   "metadata": {},
   "source": [
    "We can now modify the data in fruits by performing basic arithmetic operations.\n",
    "\n",
    "#### Example 1. Element-wise basic arithmetic operations"
   ]
  },
  {
   "cell_type": "code",
   "execution_count": 8,
   "id": "f3d05e55-521a-4062-a166-878c053456c6",
   "metadata": {},
   "outputs": [
    {
     "name": "stdout",
     "output_type": "stream",
     "text": [
      "Original grocery list of fruits:\n",
      "  apples     10\n",
      "oranges     6\n",
      "bananas     3\n",
      "dtype: int64\n",
      "\n",
      "fruits + 2:\n",
      " apples     12\n",
      "oranges     8\n",
      "bananas     5\n",
      "dtype: int64\n",
      "\n",
      "fruits - 2:\n",
      " apples     8\n",
      "oranges    4\n",
      "bananas    1\n",
      "dtype: int64\n",
      "\n",
      "fruits  *2:\n",
      " apples     20\n",
      "oranges    12\n",
      "bananas     6\n",
      "dtype: int64\n",
      "\n",
      "fruits / 2:\n",
      " apples     5.0\n",
      "oranges    3.0\n",
      "bananas    1.5\n",
      "dtype: float64\n",
      "\n"
     ]
    }
   ],
   "source": [
    "# We print fruits for reference\n",
    "print('Original grocery list of fruits:\\n ', fruits)\n",
    "\n",
    "# We perform basic element-wise operations using arithmetic symbols\n",
    "print()\n",
    "print('fruits + 2:\\n', fruits + 2) # We add 2 to each item in fruits\n",
    "print()\n",
    "print('fruits - 2:\\n', fruits - 2) # We subtract 2 to each item in fruits\n",
    "print()\n",
    "print('fruits  *2:\\n', fruits*  2) # We multiply each item in fruits by 2 \n",
    "print()\n",
    "print('fruits / 2:\\n', fruits / 2) # We divide each item in fruits by 2\n",
    "print()"
   ]
  },
  {
   "cell_type": "markdown",
   "id": "6bd118ef-5a15-4f05-906d-b1c6d7ce2f9a",
   "metadata": {},
   "source": [
    "You can also apply mathematical functions from NumPy, such as `sqrt(x)`, to all elements of a Pandas Series.\n",
    "\n",
    "#### Example 2. Use mathematical functions from NumPy to operate on Series"
   ]
  },
  {
   "cell_type": "code",
   "execution_count": 11,
   "id": "24d3b01b-6c13-4024-9a3f-f1d70db2e6b0",
   "metadata": {},
   "outputs": [
    {
     "name": "stdout",
     "output_type": "stream",
     "text": [
      "Original grocery list of fruits:\n",
      " apples     10\n",
      "oranges     6\n",
      "bananas     3\n",
      "dtype: int64\n",
      "\n",
      "EXP(X) = \n",
      " apples     22026.465795\n",
      "oranges      403.428793\n",
      "bananas       20.085537\n",
      "dtype: float64\n",
      "\n",
      "SQRT(X) =\n",
      " apples     3.162278\n",
      "oranges    2.449490\n",
      "bananas    1.732051\n",
      "dtype: float64\n",
      "\n",
      "POW(X,2) =\n",
      " apples     100\n",
      "oranges     36\n",
      "bananas      9\n",
      "dtype: int64\n"
     ]
    }
   ],
   "source": [
    "# We import NumPy as np to be able to use the mathematical functions\n",
    "import numpy as np\n",
    "\n",
    "# We print fruits for reference\n",
    "print('Original grocery list of fruits:\\n', fruits)\n",
    "\n",
    "# We apply different mathematical functions to all elements of fruits\n",
    "print()\n",
    "print('EXP(X) = \\n', np.exp(fruits))\n",
    "print() \n",
    "print('SQRT(X) =\\n', np.sqrt(fruits))\n",
    "print()\n",
    "print('POW(X,2) =\\n',np.power(fruits,2)) # We raise all elements of fruits to the power of 2"
   ]
  },
  {
   "cell_type": "markdown",
   "id": "0117d402-3986-42be-8a1c-071791ab37de",
   "metadata": {},
   "source": [
    "Pandas also allows us to only apply arithmetic operations on selected items in our fruits grocery list. Let's see some examples\n",
    "\n",
    "#### Example 3. Perform arithmetic operations on selected elements"
   ]
  },
  {
   "cell_type": "code",
   "execution_count": 15,
   "id": "57b766ef-b2d8-469b-ad93-9ddef2516883",
   "metadata": {},
   "outputs": [
    {
     "name": "stdout",
     "output_type": "stream",
     "text": [
      "Original grocery list of fruits:\n",
      "  apples     10\n",
      "oranges     6\n",
      "bananas     3\n",
      "dtype: int64\n",
      "\n",
      "Amount of bananas + 2 =  5\n",
      "\n",
      "Amount of apples - 2 =  8\n",
      "\n",
      "We double the amount of apples and oranges:\n",
      " apples     20\n",
      "oranges    12\n",
      "dtype: int64\n",
      "\n",
      "We half the amount of apples and oranges:\n",
      " apples     5.0\n",
      "oranges    3.0\n",
      "dtype: float64\n"
     ]
    }
   ],
   "source": [
    "# We print fruits for reference\n",
    "print('Original grocery list of fruits:\\n ', fruits)\n",
    "print()\n",
    "\n",
    "# We add 2 only to the bananas\n",
    "print('Amount of bananas + 2 = ', fruits['bananas'] + 2)\n",
    "print()\n",
    "\n",
    "# We subtract 2 from apples\n",
    "print('Amount of apples - 2 = ', fruits.iloc[0] - 2)\n",
    "print()\n",
    "\n",
    "# We multiply apples and oranges by 2\n",
    "print('We double the amount of apples and oranges:\\n', fruits[['apples', 'oranges']] * 2)\n",
    "print()\n",
    "\n",
    "# We divide apples and oranges by 2\n",
    "print('We half the amount of apples and oranges:\\n', fruits.loc[['apples', 'oranges']] / 2)"
   ]
  },
  {
   "cell_type": "markdown",
   "id": "4f322e35-0596-4e31-9956-f73158ce08d7",
   "metadata": {},
   "source": [
    "You can also apply arithmetic operations on Pandas Series of mixed data type provided that the arithmetic operation is defined for all data types in the Series, otherwise, you will get an error. Let's see what happens when we multiply our grocery list by 2\n",
    "\n",
    "#### Example 4. Perform multiplication on a Series having integer and string elements"
   ]
  },
  {
   "cell_type": "code",
   "execution_count": 82,
   "id": "2a42b250-b2a9-4963-85f6-157ffa70341a",
   "metadata": {},
   "outputs": [
    {
     "data": {
      "text/plain": [
       "eggs          4\n",
       "milk     YesYes\n",
       "bread      NoNo\n",
       "dtype: object"
      ]
     },
     "execution_count": 82,
     "metadata": {},
     "output_type": "execute_result"
    }
   ],
   "source": [
    "# We multiply our grocery list by 2\n",
    "groceries * 2"
   ]
  },
  {
   "cell_type": "markdown",
   "id": "4a59dd94-83c5-4631-be66-5e1dd3b010cb",
   "metadata": {},
   "source": []
  },
  {
   "cell_type": "markdown",
   "id": "ed307d0d-a2af-443b-8910-0febc8ecc4c2",
   "metadata": {},
   "source": [
    "Since we multiplied by 2, Pandas doubles the data of each item including the strings. Pandas can do this because the multiplication operation `*` is defined both for numbers and strings. If you were to apply an operation that was valid for numbers but not strings, say for instance, `/` you will get an error. So when you have mixed data types in your Pandas Series make sure the arithmetic operations are valid on _**all**_ the data types of your elements."
   ]
  },
  {
   "cell_type": "code",
   "execution_count": null,
   "id": "04fda087-b1c2-4483-8b49-7534c93702f2",
   "metadata": {},
   "outputs": [],
   "source": []
  }
 ],
 "metadata": {
  "kernelspec": {
   "display_name": "Python 3 (ipykernel)",
   "language": "python",
   "name": "python3"
  },
  "language_info": {
   "codemirror_mode": {
    "name": "ipython",
    "version": 3
   },
   "file_extension": ".py",
   "mimetype": "text/x-python",
   "name": "python",
   "nbconvert_exporter": "python",
   "pygments_lexer": "ipython3",
   "version": "3.12.4"
  }
 },
 "nbformat": 4,
 "nbformat_minor": 5
}
