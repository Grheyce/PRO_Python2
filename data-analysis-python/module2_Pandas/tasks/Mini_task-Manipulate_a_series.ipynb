{
 "cells": [
  {
   "cell_type": "markdown",
   "id": "7d60274f-a6f9-4dd3-982a-a50d55a96756",
   "metadata": {},
   "source": [
    "## sun planets"
   ]
  },
  {
   "cell_type": "code",
   "execution_count": 26,
   "id": "599e3ee1-464b-4427-b566-b44ca33b89ed",
   "metadata": {},
   "outputs": [],
   "source": [
    "import pandas as pd\n",
    "\n",
    "# DO NOT CHANGE THE VARIABLE NAMES\n",
    "\n",
    "# Given a list representing a few planets\n",
    "planets = ['Earth', 'Saturn', 'Venus', 'Mars', 'Jupiter']\n",
    "\n",
    "# Given another list representing the distance of each of these planets from the Sun\n",
    "# The distance from the Sun is in units of 10^6 km\n",
    "distance_from_sun = [149.6, 1433.5, 108.2, 227.9, 778.6]"
   ]
  },
  {
   "cell_type": "code",
   "execution_count": 28,
   "id": "0207899e-56a0-49d5-b136-ce464f9bbd92",
   "metadata": {},
   "outputs": [],
   "source": [
    "# TO DO: Create a Pandas Series \"dist_planets\" using the lists above, representing the distance of the planet from the Sun.\n",
    "# Use the `distance_from_sun` as your data, and `planets` as your index.\n",
    "dist_planets = 0\n"
   ]
  },
  {
   "cell_type": "code",
   "execution_count": 30,
   "id": "726f4a57-e290-47e2-9564-7d904307e746",
   "metadata": {},
   "outputs": [],
   "source": [
    "# TO DO: Calculate the time (minutes) it takes light from the Sun to reach each planet. \n",
    "# You can do this by dividing each planet's distance from the Sun by the speed of light.\n",
    "# Use the speed of light, c = 18, since light travels 18 x 10^6 km/minute.\n",
    "time_light = None\n",
    " "
   ]
  },
  {
   "cell_type": "code",
   "execution_count": 32,
   "id": "28dbc1a8-03d2-49ab-b906-f9c118ba7aaf",
   "metadata": {},
   "outputs": [],
   "source": [
    "# TO DO: Use Boolean indexing to select only those planets for which sunlight takes less\n",
    "# than 40 minutes to reach them.\n",
    "close_planets = 0"
   ]
  },
  {
   "cell_type": "code",
   "execution_count": 38,
   "id": "8c2cd693-481f-4acd-b64e-307493b68a5e",
   "metadata": {},
   "outputs": [],
   "source": [
    "market_list = {'price': pd.Series(data = [100, 200, 300], index = ['maggi', 'milo', 'orange']),\n",
    "               'availability': pd.Series(data = ['available', 'available', 'unavailable'], index = ['maggi', 'milo', 'orange'])\n",
    "                                  }"
   ]
  },
  {
   "cell_type": "code",
   "execution_count": 40,
   "id": "479dae91-a5f2-4cf8-9a34-bfcba157ec89",
   "metadata": {},
   "outputs": [
    {
     "data": {
      "text/plain": [
       "{'price': maggi     100\n",
       " milo      200\n",
       " orange    300\n",
       " dtype: int64,\n",
       " 'availability': maggi       available\n",
       " milo        available\n",
       " orange    unavailable\n",
       " dtype: object}"
      ]
     },
     "execution_count": 40,
     "metadata": {},
     "output_type": "execute_result"
    }
   ],
   "source": [
    "market_list"
   ]
  },
  {
   "cell_type": "code",
   "execution_count": 42,
   "id": "812546d2-8349-4c3e-abb9-a42e052d7a58",
   "metadata": {},
   "outputs": [
    {
     "data": {
      "text/html": [
       "<div>\n",
       "<style scoped>\n",
       "    .dataframe tbody tr th:only-of-type {\n",
       "        vertical-align: middle;\n",
       "    }\n",
       "\n",
       "    .dataframe tbody tr th {\n",
       "        vertical-align: top;\n",
       "    }\n",
       "\n",
       "    .dataframe thead th {\n",
       "        text-align: right;\n",
       "    }\n",
       "</style>\n",
       "<table border=\"1\" class=\"dataframe\">\n",
       "  <thead>\n",
       "    <tr style=\"text-align: right;\">\n",
       "      <th></th>\n",
       "      <th>price</th>\n",
       "      <th>availability</th>\n",
       "    </tr>\n",
       "  </thead>\n",
       "  <tbody>\n",
       "    <tr>\n",
       "      <th>maggi</th>\n",
       "      <td>100</td>\n",
       "      <td>available</td>\n",
       "    </tr>\n",
       "    <tr>\n",
       "      <th>milo</th>\n",
       "      <td>200</td>\n",
       "      <td>available</td>\n",
       "    </tr>\n",
       "    <tr>\n",
       "      <th>orange</th>\n",
       "      <td>300</td>\n",
       "      <td>unavailable</td>\n",
       "    </tr>\n",
       "  </tbody>\n",
       "</table>\n",
       "</div>"
      ],
      "text/plain": [
       "        price availability\n",
       "maggi     100    available\n",
       "milo      200    available\n",
       "orange    300  unavailable"
      ]
     },
     "execution_count": 42,
     "metadata": {},
     "output_type": "execute_result"
    }
   ],
   "source": [
    "pd.DataFrame(market_list)"
   ]
  },
  {
   "cell_type": "code",
   "execution_count": null,
   "id": "77f6ea4f-9f5a-4ef9-baee-c0d7e8092bec",
   "metadata": {},
   "outputs": [],
   "source": []
  }
 ],
 "metadata": {
  "kernelspec": {
   "display_name": "Python 3 (ipykernel)",
   "language": "python",
   "name": "python3"
  },
  "language_info": {
   "codemirror_mode": {
    "name": "ipython",
    "version": 3
   },
   "file_extension": ".py",
   "mimetype": "text/x-python",
   "name": "python",
   "nbconvert_exporter": "python",
   "pygments_lexer": "ipython3",
   "version": "3.9.12"
  }
 },
 "nbformat": 4,
 "nbformat_minor": 5
}
