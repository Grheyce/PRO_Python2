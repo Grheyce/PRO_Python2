{
 "cells": [
  {
   "cell_type": "markdown",
   "id": "f8197be1-63d1-4331-b1b4-c42a2a962f5b",
   "metadata": {},
   "source": [
    "Use Broadcasting to create a 4 x 4 ndarray that has its first column full of `1s`, its second column full of `2s`, its third column full of `3s`, etc"
   ]
  },
  {
   "cell_type": "code",
   "execution_count": 2,
   "id": "5acc68a3-2276-4c6a-aee3-000ab60614b1",
   "metadata": {},
   "outputs": [],
   "source": [
    "import numpy as np\n",
    "\n",
    "# Replace None with appropriate code\n",
    "X = None"
   ]
  },
  {
   "cell_type": "code",
   "execution_count": null,
   "id": "b56f3f7f-3002-4e3d-9dcc-dad36bb40750",
   "metadata": {},
   "outputs": [],
   "source": []
  }
 ],
 "metadata": {
  "kernelspec": {
   "display_name": "Python 3 (ipykernel)",
   "language": "python",
   "name": "python3"
  },
  "language_info": {
   "codemirror_mode": {
    "name": "ipython",
    "version": 3
   },
   "file_extension": ".py",
   "mimetype": "text/x-python",
   "name": "python",
   "nbconvert_exporter": "python",
   "pygments_lexer": "ipython3",
   "version": "3.12.4"
  }
 },
 "nbformat": 4,
 "nbformat_minor": 5
}
