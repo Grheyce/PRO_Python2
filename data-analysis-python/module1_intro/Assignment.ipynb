{
 "cells": [
  {
   "cell_type": "markdown",
   "id": "374f0350-1a03-457e-a155-b905d7f3769a",
   "metadata": {},
   "source": [
    "Using the NumPy functions you learned about on the previous page, create a 4 x 4 ndarray that only contains consecutive even numbers from 2 to 32 (inclusive)."
   ]
  },
  {
   "cell_type": "code",
   "execution_count": 6,
   "id": "e49771e2-e902-4553-97c9-93b4136de742",
   "metadata": {},
   "outputs": [],
   "source": [
    "import numpy as np\n",
    "\n",
    "# Replace None with appropriate code\n",
    "X = np.linspace(2,32,16).reshape(4,4)"
   ]
  },
  {
   "cell_type": "code",
   "execution_count": 8,
   "id": "28e87875-3a61-49e7-99cd-ac2734fa3e51",
   "metadata": {},
   "outputs": [
    {
     "data": {
      "text/plain": [
       "array([[ 2.,  4.,  6.,  8.],\n",
       "       [10., 12., 14., 16.],\n",
       "       [18., 20., 22., 24.],\n",
       "       [26., 28., 30., 32.]])"
      ]
     },
     "execution_count": 8,
     "metadata": {},
     "output_type": "execute_result"
    }
   ],
   "source": [
    "X"
   ]
  },
  {
   "cell_type": "code",
   "execution_count": 27,
   "id": "2d9a98ae-b486-4cf2-89e2-fb015f875acc",
   "metadata": {},
   "outputs": [],
   "source": [
    "V = np.arange(2,33,2).reshape(4,4)"
   ]
  },
  {
   "cell_type": "code",
   "execution_count": 29,
   "id": "740939a6-50a1-4ecd-86da-eab7c2fd6ec6",
   "metadata": {},
   "outputs": [
    {
     "data": {
      "text/plain": [
       "array([[ 2,  4,  6,  8],\n",
       "       [10, 12, 14, 16],\n",
       "       [18, 20, 22, 24],\n",
       "       [26, 28, 30, 32]])"
      ]
     },
     "execution_count": 29,
     "metadata": {},
     "output_type": "execute_result"
    }
   ],
   "source": [
    "V"
   ]
  },
  {
   "cell_type": "markdown",
   "id": "a45d2ffa-e141-464a-aefd-2795b518629f",
   "metadata": {},
   "source": [
    "Create a 5 x 5 ndarray X with consecutive integers from 1 to 25 (inclusive). Afterwards use Boolean indexing to pick out only the odd numbers in the array and assign the result to Y."
   ]
  },
  {
   "cell_type": "code",
   "execution_count": 6,
   "id": "23c8de0f-3f70-46fb-bb5a-2a17adc847a5",
   "metadata": {},
   "outputs": [],
   "source": [
    "import numpy as np\n",
    "\n",
    "# TODO: replace None with appropriate code\n",
    "# Create a 5 x 5 ndarray with consecutive integers from 1 to 25 (inclusive).\n",
    "X = None\n",
    "\n",
    "# TODO: replace None with appropriate code\n",
    "# Use Boolean indexing to pick out only the odd numbers in the array\n",
    "Y = None"
   ]
  },
  {
   "cell_type": "code",
   "execution_count": null,
   "id": "27dfd277-4906-44ac-a963-99251418afc5",
   "metadata": {},
   "outputs": [],
   "source": []
  }
 ],
 "metadata": {
  "kernelspec": {
   "display_name": "Python 3 (ipykernel)",
   "language": "python",
   "name": "python3"
  },
  "language_info": {
   "codemirror_mode": {
    "name": "ipython",
    "version": 3
   },
   "file_extension": ".py",
   "mimetype": "text/x-python",
   "name": "python",
   "nbconvert_exporter": "python",
   "pygments_lexer": "ipython3",
   "version": "3.12.4"
  }
 },
 "nbformat": 4,
 "nbformat_minor": 5
}
