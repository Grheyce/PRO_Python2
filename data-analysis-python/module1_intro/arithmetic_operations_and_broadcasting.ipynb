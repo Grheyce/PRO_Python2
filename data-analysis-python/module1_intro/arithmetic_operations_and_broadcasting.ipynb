{
 "cells": [
  {
   "cell_type": "code",
   "execution_count": null,
   "id": "eaa05172-9b81-4bd2-ac18-7d508d647e8f",
   "metadata": {},
   "outputs": [],
   "source": [
    "import numpy as np"
   ]
  },
  {
   "cell_type": "markdown",
   "id": "3bf44f8c-d715-4077-a2bb-4328206baa44",
   "metadata": {},
   "source": [
    "#### Example 1. Element-wise arithmetic operations on 1-D arrays\n",
    "It is important to note that when performing element-wise operations, the shapes of the ndarrays being operated on, must have the same shape or be broadcastable."
   ]
  },
  {
   "cell_type": "code",
   "execution_count": null,
   "id": "cef209b2-162e-4a77-9f74-6584bb6a8790",
   "metadata": {},
   "outputs": [],
   "source": [
    "# We create two rank 1 ndarrays\n",
    "x = np.array([1,2,3,4])\n",
    "y = np.array([5.5,6.5,7.5,8.5])\n",
    "\n",
    "# We print x\n",
    "print()\n",
    "print('x = ', x)\n",
    "\n",
    "# We print y\n",
    "print()\n",
    "print('y = ', y)\n",
    "print()\n",
    "\n",
    "# We perfrom basic element-wise operations using arithmetic symbols and functions\n",
    "print('x + y = ', x + y)\n",
    "print('add(x,y) = ', np.add(x,y))\n",
    "print()\n",
    "print('x - y = ', x - y)\n",
    "print('subtract(x,y) = ', np.subtract(x,y))\n",
    "print()\n",
    "print('x  *y = ', x*  y)\n",
    "print('multiply(x,y) = ', np.multiply(x,y))\n",
    "print()\n",
    "print('x / y = ', x / y)\n",
    "print('divide(x,y) = ', np.divide(x,y))"
   ]
  },
  {
   "cell_type": "code",
   "execution_count": null,
   "id": "bec3dac3-4216-4bdb-ac07-dde92ff829c8",
   "metadata": {},
   "outputs": [],
   "source": []
  },
  {
   "cell_type": "markdown",
   "id": "f981116a-a86a-47ed-8d58-d9097775dd3f",
   "metadata": {},
   "source": [
    "We can also perform the same element-wise arithmetic operations on rank 2 ndarrays."
   ]
  },
  {
   "cell_type": "markdown",
   "id": "fb707c45-aa8d-4c22-b650-9ae827d37888",
   "metadata": {},
   "source": [
    "#### Example 2. Element-wise arithmetic operations on a 2-D array (Same shape)"
   ]
  },
  {
   "cell_type": "code",
   "execution_count": null,
   "id": "96a864ff-7c97-419e-89aa-9ee043cfdb18",
   "metadata": {},
   "outputs": [],
   "source": [
    "# We create two rank 2 ndarrays\n",
    "X = np.array([1,2,3,4]).reshape(2,2)\n",
    "Y = np.array([5.5,6.5,7.5,8.5]).reshape(2,2)\n",
    "\n",
    "# We print X\n",
    "print()\n",
    "print('X = \\n', X)\n",
    "\n",
    "# We print Y\n",
    "print()\n",
    "print('Y = \\n', Y)\n",
    "print()\n",
    "\n",
    "# We perform basic element-wise operations using arithmetic symbols and functions\n",
    "print('X + Y = \\n', X + Y)\n",
    "print()\n",
    "print('add(X,Y) = \\n', np.add(X,Y))\n",
    "print()\n",
    "print('X - Y = \\n', X - Y)\n",
    "print()\n",
    "print('subtract(X,Y) = \\n', np.subtract(X,Y))\n",
    "print()\n",
    "print('X  *Y = \\n', X*  Y)\n",
    "print()\n",
    "print('multiply(X,Y) = \\n', np.multiply(X,Y))\n",
    "print()\n",
    "print('X / Y = \\n', X / Y)\n",
    "print()\n",
    "print('divide(X,Y) = \\n', np.divide(X,Y))\n"
   ]
  },
  {
   "cell_type": "markdown",
   "id": "4f77e95c-2fd8-4d1e-9524-83683ddd6ecd",
   "metadata": {},
   "source": [
    "We can also apply mathematical functions, such as sqrt(x), to all elements of an ndarray at once.\n",
    "#### Example 3. Additional mathematical functions"
   ]
  },
  {
   "cell_type": "code",
   "execution_count": null,
   "id": "c591c2bc-01a8-4cd7-af66-5bc4239d8311",
   "metadata": {},
   "outputs": [],
   "source": [
    "# We create a rank 1 ndarray\n",
    "x = np.array([1,2,3,4])\n",
    "\n",
    "# We print x\n",
    "print()\n",
    "print('x = ', x)\n",
    "\n",
    "# We apply different mathematical functions to all elements of x\n",
    "print()\n",
    "print('EXP(x) =', np.exp(x))\n",
    "print()\n",
    "print('SQRT(x) =',np.sqrt(x))\n",
    "print()\n",
    "print('POW(x,2) =',np.power(x,2)) # We raise all elements to the power of 2"
   ]
  },
  {
   "cell_type": "markdown",
   "id": "eb615444-3594-4f1f-8a72-9999b9ff152b",
   "metadata": {},
   "source": [
    "NumPy has a wide variety of statistical functions. Statistical functions provide us with statistical information about the elements in an ndarray.\n",
    "\n",
    "_Note - Most of the statistical operations can be done using either a function or an equivalent method. For example, both [numpy.mean](https://numpy.org/doc/stable/reference/generated/numpy.mean.html) function and [numpy.ndarray.mean](https://numpy.org/doc/stable/reference/generated/numpy.ndarray.mean.html#:~:text=method%20ndarray.,mean%20for%20full%20documentation.) method will return the arithmetic mean of the array elements along the given axis._\n",
    "#### Example 4. Statistical functions"
   ]
  },
  {
   "cell_type": "code",
   "execution_count": null,
   "id": "0103d808-b2ba-48c0-915c-2bffb2f9bddf",
   "metadata": {},
   "outputs": [],
   "source": [
    "# We create a 2 x 2 ndarray\n",
    "X = np.array([[1,2], [3,4]])\n",
    "\n",
    "# We print x\n",
    "print()\n",
    "print('X = \\n', X)\n",
    "print()\n",
    "\n",
    "print('Average of all elements in X:', X.mean())\n",
    "print('Average of all elements in the columns of X:', X.mean(axis=0))\n",
    "print('Average of all elements in the rows of X:', X.mean(axis=1))\n",
    "print()\n",
    "print('Sum of all elements in X:', X.sum())\n",
    "print('Sum of all elements in the columns of X:', X.sum(axis=0))\n",
    "print('Sum of all elements in the rows of X:', X.sum(axis=1))\n",
    "print()\n",
    "print('Standard Deviation of all elements in X:', X.std())\n",
    "print('Standard Deviation of all elements in the columns of X:', X.std(axis=0))\n",
    "print('Standard Deviation of all elements in the rows of X:', X.std(axis=1))\n",
    "print()\n",
    "print('Median of all elements in X:', np.median(X))\n",
    "print('Median of all elements in the columns of X:', np.median(X,axis=0))\n",
    "print('Median of all elements in the rows of X:', np.median(X,axis=1))\n",
    "print()\n",
    "print('Maximum value of all elements in X:', X.max())\n",
    "print('Maximum value of all elements in the columns of X:', X.max(axis=0))\n",
    "print('Maximum value of all elements in the rows of X:', X.max(axis=1))\n",
    "print()\n",
    "print('Minimum value of all elements in X:', X.min())\n",
    "print('Minimum value of all elements in the columns of X:', X.min(axis=0))\n",
    "print('Minimum value of all elements in the rows of X:', X.min(axis=1))"
   ]
  },
  {
   "cell_type": "markdown",
   "id": "fc7c3278-bc8c-402b-9085-de92a609171e",
   "metadata": {},
   "source": [
    "#### Example 6. Arithmetic operations on 2-D arrays (Compatible shape)"
   ]
  },
  {
   "cell_type": "code",
   "execution_count": null,
   "id": "be68957e-8e9f-49c4-8368-ef4bfb91d399",
   "metadata": {},
   "outputs": [],
   "source": [
    "# We create a rank 1 ndarray\n",
    "x = np.array([1,2,3])\n",
    "\n",
    "# We create a 3 x 3 ndarray\n",
    "Y = np.array([[1,2,3],[4,5,6],[7,8,9]])\n",
    "\n",
    "# We create a 3 x 1 ndarray\n",
    "Z = np.array([1,2,3]).reshape(3,1)\n",
    "\n",
    "# We print x\n",
    "print()\n",
    "print('x = ', x)\n",
    "print()\n",
    "\n",
    "# We print Y\n",
    "print()\n",
    "print('Y = \\n', Y)\n",
    "print()\n",
    "\n",
    "# We print Z\n",
    "print()\n",
    "print('Z = \\n', Z)\n",
    "print()\n",
    "\n",
    "print('x + Y = \\n', x + Y)\n",
    "print()\n",
    "print('Z + Y = \\n',Z + Y)"
   ]
  },
  {
   "cell_type": "markdown",
   "id": "9dae0c62-d4c5-48cc-8c98-33f1bf5f94cc",
   "metadata": {},
   "source": [
    "NumPy is able to add 1 x 3 and 3 x 1 ndarrays to 3 x 3 ndarrays by broadcasting the smaller ndarrays along the big ndarray so that they have compatible shapes."
   ]
  },
  {
   "cell_type": "code",
   "execution_count": null,
   "id": "24b0ae43-88bc-4ec1-8771-1ddcb2d3cce4",
   "metadata": {},
   "outputs": [],
   "source": []
  }
 ],
 "metadata": {
  "kernelspec": {
   "display_name": "Python 3 (ipykernel)",
   "language": "python",
   "name": "python3"
  },
  "language_info": {
   "codemirror_mode": {
    "name": "ipython",
    "version": 3
   },
   "file_extension": ".py",
   "mimetype": "text/x-python",
   "name": "python",
   "nbconvert_exporter": "python",
   "pygments_lexer": "ipython3",
   "version": "3.12.4"
  }
 },
 "nbformat": 4,
 "nbformat_minor": 5
}
