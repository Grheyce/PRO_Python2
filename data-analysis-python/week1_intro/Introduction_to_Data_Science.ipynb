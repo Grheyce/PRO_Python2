{
 "cells": [
  {
   "cell_type": "markdown",
   "id": "2b896d83-83d0-4e8b-8d67-7fa98148a013",
   "metadata": {},
   "source": [
    "## Course Overview\n",
    "- Learn to use Anaconda to nmanage packages for Data Science such as Numpy, Pandas, Matplotlib, and Seaborn\n",
    "- Numpy: Learn to use the functions defined in Numpy package for numerical calculations\n",
    "- Pandas: Learn to analyse and manipulate data using Pandas package\n",
    "- Matplotlib and Seaborn: Learn to draw attractive and informative statistical visualizations using the Matplotlib and Seaborn packages."
   ]
  },
  {
   "cell_type": "markdown",
   "id": "847b1f19-3f29-4b7d-a10d-99bb97cb7e76",
   "metadata": {},
   "source": [
    "### Working on projects that requires you to install different versions of python or libraries.\n",
    "- This will require you to work with virtual environments. \n",
    "- You will create a different environment for each project you are working on."
   ]
  },
  {
   "cell_type": "markdown",
   "id": "26c1df61-55a6-4099-8039-c1ff115d8ec0",
   "metadata": {},
   "source": [
    "### Conda is a tool that helps you manage all of your environments.\n",
    "- To create a new environment, use the command `conda create --name <name_of_environment> python=3.7`\n",
    "- To activate an environment, use the command `conda activate <name_of_environment>`\n",
    "- To deactivate an environment, use the command `conda deactivate`\n",
    "- To check the packages installed in an environment, use the command `conda list`\n",
    "- To install a package in an environment, use the command `conda install <package_name>`\n",
    "\n",
    "### Let's install Numpy, Pandas, Matplotlib, and Seaborn in our environment.\n",
    "- You will use the command `conda install numpy pandas matplotlib seaborn`\n"
   ]
  },
  {
   "cell_type": "code",
   "execution_count": null,
   "id": "ec0cd452-dd9a-4468-a196-8cb087f742aa",
   "metadata": {},
   "outputs": [],
   "source": []
  },
  {
   "cell_type": "markdown",
   "id": "4a2038c2-1479-40b2-9658-d3207950fc02",
   "metadata": {},
   "source": [
    "## Python Packages"
   ]
  },
  {
   "cell_type": "markdown",
   "id": "fca3af6b-5a09-4644-b9fa-bdef4bcb60d7",
   "metadata": {},
   "source": [
    "- A package is a bundle of modules, where each module consist of a set of classes and function definitions.\n",
    "- After installing a package, you can import it using the `import` keyword and use the functions defined in it.\n",
    "- Over 160 scientific packages and their dependencies are available on conda.\n",
    "\n",
    "- Note: It is important to create a virtual environment because each virtual environment remains isolated from other virtual environments, and the default 'system' environment."
   ]
  },
  {
   "cell_type": "markdown",
   "id": "b28d4fe4-68d3-4241-b499-8e1200fabd4a",
   "metadata": {},
   "source": [
    "### Numpy\n",
    "- NumPy is a Python library that provides support for large, multi-dimensional arrays and matrices, along with a large collection of high-level mathematical functions to operate on these arrays.\n",
    "- By default, NumPy is included with Anaconda. However, you can also install NumPy using the command `conda install numpy`.\n",
    "- You could also install specific versions of NumPy using the command `conda install numpy=X.XX` Where X.XX is the version of NumPy you want to install.\n",
    "\n",
    "- Numpy is a remarkable math library with many functions and features,\n",
    "\n",
    "- Read up on the [NumPy documentation](https://numpy.org/doc/stable/user/quickstart.html)"
   ]
  },
  {
   "cell_type": "markdown",
   "id": "7567bcbe-646c-4228-898c-ed8777edf0a8",
   "metadata": {},
   "source": [
    "### Benefits of using NumPy\n",
    "- Even though Python lists are great on their own, NumPy has a number of advantages over them.\n",
    "1. It is faster than Python lists. When performing operations on large arrays NumPy can often perform several orders of magnitude faster than Python lists.\n",
    "- This is due to the nature of NumPy arrays being memory-efficient and from optimized algoriths used by NumPy for doing arithmetic, statistical, and linear algebra operations.\n",
    "\n",
    "2. It has multidimensional array data structures that can represent vectors and matrices. For example, when training a Neural Network, you often have to carry out many matrix multiplications. Numpy is optimized for these operations and allows for Linear Algebra operations effectively and efficiently.\n",
    "\n",
    "3. It has a large number of optimized built-in mathematical functions for a variety of complex mathematical computations."
   ]
  },
  {
   "cell_type": "code",
   "execution_count": null,
   "id": "72381582-5bce-4116-ac05-adcc0f6a9eb8",
   "metadata": {},
   "outputs": [],
   "source": []
  }
 ],
 "metadata": {
  "kernelspec": {
   "display_name": "Python 3 (ipykernel)",
   "language": "python",
   "name": "python3"
  },
  "language_info": {
   "codemirror_mode": {
    "name": "ipython",
    "version": 3
   },
   "file_extension": ".py",
   "mimetype": "text/x-python",
   "name": "python",
   "nbconvert_exporter": "python",
   "pygments_lexer": "ipython3",
   "version": "3.9.12"
  }
 },
 "nbformat": 4,
 "nbformat_minor": 5
}
