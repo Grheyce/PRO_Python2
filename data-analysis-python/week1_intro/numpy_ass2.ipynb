{
 "cells": [
  {
   "cell_type": "code",
   "execution_count": null,
   "id": "904e2d73-c061-42b7-8651-f06aec052f23",
   "metadata": {},
   "outputs": [],
   "source": [
    "\"\"\"\n",
    "Use Broadcasting to create a 4 x 4 ndarray that has its first column full of `1s`, \n",
    "its second column full of `2s`, its third column full of `3s`, etc\n",
    "\"\"\""
   ]
  },
  {
   "cell_type": "code",
   "execution_count": 6,
   "id": "6026e4a6-3000-44a4-8ccd-2a92c5495cb9",
   "metadata": {},
   "outputs": [],
   "source": [
    "import numpy as np\n",
    "x = np.array([1,2,3,4])"
   ]
  },
  {
   "cell_type": "code",
   "execution_count": 8,
   "id": "5cbd38de-e400-43aa-be9d-023b066b052a",
   "metadata": {},
   "outputs": [
    {
     "data": {
      "text/plain": [
       "array([1, 2, 3, 4])"
      ]
     },
     "execution_count": 8,
     "metadata": {},
     "output_type": "execute_result"
    }
   ],
   "source": [
    "x"
   ]
  },
  {
   "cell_type": "code",
   "execution_count": 17,
   "id": "27bb8375-2df0-437f-ab1e-d9448aa0cfeb",
   "metadata": {},
   "outputs": [],
   "source": [
    "x2 = x.reshape(4,1)"
   ]
  },
  {
   "cell_type": "code",
   "execution_count": 19,
   "id": "0685885f-e527-4a44-968d-2576bf594cdc",
   "metadata": {},
   "outputs": [
    {
     "data": {
      "text/plain": [
       "array([[1],\n",
       "       [2],\n",
       "       [3],\n",
       "       [4]])"
      ]
     },
     "execution_count": 19,
     "metadata": {},
     "output_type": "execute_result"
    }
   ],
   "source": [
    "x2"
   ]
  },
  {
   "cell_type": "code",
   "execution_count": 29,
   "id": "cd8719cc-d7c6-46a7-8d68-c39e3812e04a",
   "metadata": {},
   "outputs": [],
   "source": [
    "result = x2*np.ones((1, 4), dtype=int)"
   ]
  },
  {
   "cell_type": "code",
   "execution_count": 31,
   "id": "6c20bc6c-58d2-496f-9519-9f60a9eafc0a",
   "metadata": {},
   "outputs": [
    {
     "data": {
      "text/plain": [
       "array([[1, 1, 1, 1],\n",
       "       [2, 2, 2, 2],\n",
       "       [3, 3, 3, 3],\n",
       "       [4, 4, 4, 4]])"
      ]
     },
     "execution_count": 31,
     "metadata": {},
     "output_type": "execute_result"
    }
   ],
   "source": [
    "result"
   ]
  }
 ],
 "metadata": {
  "kernelspec": {
   "display_name": "Python 3 (ipykernel)",
   "language": "python",
   "name": "python3"
  },
  "language_info": {
   "codemirror_mode": {
    "name": "ipython",
    "version": 3
   },
   "file_extension": ".py",
   "mimetype": "text/x-python",
   "name": "python",
   "nbconvert_exporter": "python",
   "pygments_lexer": "ipython3",
   "version": "3.12.4"
  }
 },
 "nbformat": 4,
 "nbformat_minor": 5
}
