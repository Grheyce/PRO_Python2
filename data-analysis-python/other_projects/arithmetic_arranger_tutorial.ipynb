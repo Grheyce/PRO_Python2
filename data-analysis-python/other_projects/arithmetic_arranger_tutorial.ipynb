{
 "cells": [
  {
   "cell_type": "markdown",
   "id": "cf9ea8f2",
   "metadata": {},
   "source": [
    "# Arithmetic Arranger Project\n",
    "\n",
    "This notebook walks through the development of the `arithmetic_arranger` function, which formats a list of arithmetic problems into a clean vertical display. Optionally, the function can also display the results of each operation.\n",
    "\n"
   ]
  },
  {
   "cell_type": "markdown",
   "id": "b2528c44",
   "metadata": {},
   "source": [
    "## Step 1: Function Definition and Error Checking\n",
    "\n",
    "The function accepts:\n",
    "- A list of arithmetic problems (as strings).\n",
    "- An optional Boolean argument to display answers.\n",
    "\n",
    "It first performs the following checks:\n",
    "- Maximum of 5 problems.\n",
    "- Only '+' or '-' operators are allowed.\n",
    "- Operands must only contain digits.\n",
    "- Operands must not exceed four digits.\n"
   ]
  },
  {
   "cell_type": "code",
   "execution_count": 26,
   "id": "82dfa2e8",
   "metadata": {},
   "outputs": [],
   "source": [
    "def arithmetic_arranger(problems, display_answers=False):\n",
    "    if len(problems) > 5:\n",
    "        return \"Error: Too many problems.\"\n",
    "\n",
    "    top_line = []\n",
    "    bottom_line = []\n",
    "    dash_line = []\n",
    "    result_line = []\n",
    "\n",
    "    for problem in problems:\n",
    "        parts = problem.split()\n",
    "        if len(parts) != 3:\n",
    "            return \"Error: Invalid problem format.\"\n",
    "\n",
    "        num1, operator, num2 = parts\n",
    "\n",
    "        if operator not in ['+', '-']:\n",
    "            return \"Error: Operator must be '+' or '-'.\"\n",
    "\n",
    "        if not num1.isdigit() or not num2.isdigit():\n",
    "            return \"Error: Numbers must only contain digits.\"\n",
    "\n",
    "        if len(num1) > 4 or len(num2) > 4:\n",
    "            return \"Error: Numbers cannot be more than four digits.\"\n",
    "\n",
    "        width = max(len(num1), len(num2)) + 2\n",
    "\n",
    "        top_line.append(num1.rjust(width))\n",
    "        bottom_line.append(operator + num2.rjust(width - 1))\n",
    "        dash_line.append('-' * width)\n",
    "\n",
    "        if display_answers:\n",
    "            if operator == '+':\n",
    "                answer = str(int(num1) + int(num2))\n",
    "            else:\n",
    "                answer = str(int(num1) - int(num2))\n",
    "            result_line.append(answer.rjust(width))\n",
    "\n",
    "    arranged_problems = \"    \".join(top_line) + \"\\n\" + \\\n",
    "                        \"    \".join(bottom_line) + \"\\n\" + \\\n",
    "                        \"    \".join(dash_line)\n",
    "\n",
    "    if display_answers:\n",
    "        arranged_problems += \"\\n\" + \"    \".join(result_line)\n",
    "\n",
    "    return arranged_problems\n"
   ]
  },
  {
   "cell_type": "markdown",
   "id": "d6c5a14f",
   "metadata": {},
   "source": [
    "## Step 2: Example Usages and Output\n",
    "\n",
    "We now test the function using both `display_answers=False` and `True`.\n"
   ]
  },
  {
   "cell_type": "code",
   "execution_count": 35,
   "id": "ab9d9003",
   "metadata": {},
   "outputs": [
    {
     "name": "stdout",
     "output_type": "stream",
     "text": [
      "   32      3801      45      123\n",
      "+ 698    -    2    + 43    +  49\n",
      "-----    ------    ----    -----\n",
      "  730      3799      88      172\n",
      "\n",
      "    3      988\n",
      "+ 855    +  40\n",
      "-----    -----\n"
     ]
    }
   ],
   "source": [
    "print(arithmetic_arranger([\"32 + 698\", \"3801 - 2\", \"45 + 43\", \"123 + 49\"], True))\n",
    "print()\n",
    "print(arithmetic_arranger([\"3 + 855\", \"988 + 40\"]))\n"
   ]
  },
  {
   "cell_type": "markdown",
   "id": "9297cd75",
   "metadata": {},
   "source": [
    "## 🧠 Exercise\n",
    "\n",
    "Try writing your own arithmetic problems and pass them into the `arithmetic_arranger` function. Here’s a cell to experiment with:\n"
   ]
  },
  {
   "cell_type": "code",
   "execution_count": 9,
   "id": "add0fde2",
   "metadata": {},
   "outputs": [
    {
     "name": "stdout",
     "output_type": "stream",
     "text": [
      "  11      3801      1      123         1\n",
      "+  4    - 2999    + 2    +  49    - 9380\n",
      "----    ------    ---    -----    ------\n",
      "  15       802      3      172     -9379\n"
     ]
    }
   ],
   "source": [
    "# Try your own test\n",
    "print(arithmetic_arranger([\"11 + 4\", \"3801 - 2999\", \"1 + 2\", \"123 + 49\", \"1 - 9380\"], True))\n"
   ]
  },
  {
   "cell_type": "code",
   "execution_count": null,
   "id": "1a67d9b9-d7f9-4071-b40b-9e583f73e648",
   "metadata": {},
   "outputs": [],
   "source": []
  }
 ],
 "metadata": {
  "kernelspec": {
   "display_name": "Python 3 (ipykernel)",
   "language": "python",
   "name": "python3"
  },
  "language_info": {
   "codemirror_mode": {
    "name": "ipython",
    "version": 3
   },
   "file_extension": ".py",
   "mimetype": "text/x-python",
   "name": "python",
   "nbconvert_exporter": "python",
   "pygments_lexer": "ipython3",
   "version": "3.12.4"
  }
 },
 "nbformat": 4,
 "nbformat_minor": 5
}
