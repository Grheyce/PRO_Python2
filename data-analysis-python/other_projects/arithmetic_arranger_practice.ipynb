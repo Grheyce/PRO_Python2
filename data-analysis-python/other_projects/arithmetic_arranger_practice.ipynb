{
 "cells": [
  {
   "cell_type": "markdown",
   "metadata": {},
   "source": [
    "# 🧮 Arithmetic Arranger Practice\n",
    "\n",
    "This notebook helps you practice implementing the `arithmetic_arranger` function. You'll break down the logic step by step and test your understanding with challenges and tasks."
   ]
  },
  {
   "cell_type": "code",
   "execution_count": null,
   "metadata": {},
   "outputs": [],
   "source": [
    "# Step-by-step Implementation\n",
    "def arithmetic_arranger(problems, display_answers=False):\n",
    "    if len(problems) > 5:\n",
    "        return \"Error: Too many problems.\"\n",
    "\n",
    "    top_line = []\n",
    "    bottom_line = []\n",
    "    dash_line = []\n",
    "    result_line = []\n",
    "\n",
    "    for problem in problems:\n",
    "        parts = problem.split()\n",
    "        if len(parts) != 3:\n",
    "            return \"Error: Invalid problem format.\"\n",
    "\n",
    "        num1, operator, num2 = parts\n",
    "\n",
    "        if operator not in ['+', '-']:\n",
    "            return \"Error: Operator must be '+' or '-'.\"\n",
    "\n",
    "        if not num1.isdigit() or not num2.isdigit():\n",
    "            return \"Error: Numbers must only contain digits.\"\n",
    "\n",
    "        if len(num1) > 4 or len(num2) > 4:\n",
    "            return \"Error: Numbers cannot be more than four digits.\"\n",
    "\n",
    "        width = max(len(num1), len(num2)) + 2\n",
    "        top_line.append(num1.rjust(width))\n",
    "        bottom_line.append(operator + num2.rjust(width - 1))\n",
    "        dash_line.append('-' * width)\n",
    "\n",
    "        if display_answers:\n",
    "            result = str(int(num1) + int(num2)) if operator == '+' else str(int(num1) - int(num2))\n",
    "            result_line.append(result.rjust(width))\n",
    "\n",
    "    arranged = \"    \".join(top_line) + \"\\n\" + \\\n",
    "               \"    \".join(bottom_line) + \"\\n\" + \\\n",
    "               \"    \".join(dash_line)\n",
    "\n",
    "    if display_answers:\n",
    "        arranged += \"\\n\" + \"    \".join(result_line)\n",
    "\n",
    "    return arranged"
   ]
  },
  {
   "cell_type": "markdown",
   "metadata": {},
   "source": [
    "### ✍️ Try It Yourself\n",
    "Use the function below to test different sets of problems."
   ]
  },
  {
   "cell_type": "code",
   "execution_count": null,
   "metadata": {},
   "outputs": [],
   "source": [
    "# Try testing your function\n",
    "print(arithmetic_arranger([\"32 + 8\", \"1 - 3801\", \"9999 + 9999\", \"523 - 49\"], True))"
   ]
  },
  {
   "cell_type": "markdown",
   "metadata": {},
   "source": [
    "### 💡 Practice Tasks\n",
    "1. What happens if you input a `*` or `/` operator?\n",
    "2. Try using numbers longer than 4 digits.\n",
    "3. Try using alphabetic characters instead of numbers.\n",
    "4. Test what happens if you pass more than 5 problems.\n",
    "\n",
    "**Try editing and rerunning the function to handle these!**"
   ]
  }
 ],
 "metadata": {
  "kernelspec": {
   "display_name": "Python 3 (ipykernel)",
   "language": "python",
   "name": "python3"
  },
  "language_info": {
   "codemirror_mode": {
    "name": "ipython",
    "version": 3
   },
   "file_extension": ".py",
   "mimetype": "text/x-python",
   "name": "python",
   "nbconvert_exporter": "python",
   "pygments_lexer": "ipython3",
   "version": "3.12.4"
  }
 },
 "nbformat": 4,
 "nbformat_minor": 4
}
