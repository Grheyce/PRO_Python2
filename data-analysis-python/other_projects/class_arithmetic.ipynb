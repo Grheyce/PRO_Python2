{
 "cells": [
  {
   "cell_type": "code",
   "execution_count": 15,
   "id": "416b863f-8004-4b95-8a65-a31fcfe86998",
   "metadata": {},
   "outputs": [],
   "source": [
    "problems = [\"32 + 698\", \"3801 - 2\", \"45 + 43\", \"123 + 49\"]"
   ]
  },
  {
   "cell_type": "code",
   "execution_count": 17,
   "id": "b863f6fe-9faa-4658-ad62-8e0da4526af9",
   "metadata": {},
   "outputs": [],
   "source": [
    "for problem in problems:\n",
    "    parts = problem.split()\n",
    "    if len(parts) != 3:\n",
    "        print(\"Error: Invalid problem format.\")"
   ]
  },
  {
   "cell_type": "code",
   "execution_count": 19,
   "id": "ff086a72-d702-43da-962b-622c95fe7802",
   "metadata": {},
   "outputs": [
    {
     "data": {
      "text/plain": [
       "['123', '+', '49']"
      ]
     },
     "execution_count": 19,
     "metadata": {},
     "output_type": "execute_result"
    }
   ],
   "source": [
    "parts"
   ]
  },
  {
   "cell_type": "code",
   "execution_count": 21,
   "id": "61a0c98a-582e-4cf7-a447-79adba4cbfb0",
   "metadata": {},
   "outputs": [],
   "source": [
    "num1, operator, num2 = parts"
   ]
  },
  {
   "cell_type": "code",
   "execution_count": 23,
   "id": "180da31a-1348-45c8-80a3-3fdd9af3ed69",
   "metadata": {},
   "outputs": [
    {
     "data": {
      "text/plain": [
       "'123'"
      ]
     },
     "execution_count": 23,
     "metadata": {},
     "output_type": "execute_result"
    }
   ],
   "source": [
    "num1"
   ]
  },
  {
   "cell_type": "code",
   "execution_count": 25,
   "id": "2b15d921-33f2-47a8-aa20-3e804edc3b65",
   "metadata": {},
   "outputs": [
    {
     "data": {
      "text/plain": [
       "'49'"
      ]
     },
     "execution_count": 25,
     "metadata": {},
     "output_type": "execute_result"
    }
   ],
   "source": [
    "num2"
   ]
  },
  {
   "cell_type": "code",
   "execution_count": 27,
   "id": "fd6c8714-8949-419c-85e4-33ab283750ae",
   "metadata": {},
   "outputs": [
    {
     "data": {
      "text/plain": [
       "'+'"
      ]
     },
     "execution_count": 27,
     "metadata": {},
     "output_type": "execute_result"
    }
   ],
   "source": [
    "operator"
   ]
  },
  {
   "cell_type": "code",
   "execution_count": 29,
   "id": "eea93104-cafa-4669-8074-0b80c7ee27e1",
   "metadata": {},
   "outputs": [
    {
     "data": {
      "text/plain": [
       "True"
      ]
     },
     "execution_count": 29,
     "metadata": {},
     "output_type": "execute_result"
    }
   ],
   "source": [
    "operator in ['+', '-']"
   ]
  },
  {
   "cell_type": "code",
   "execution_count": 31,
   "id": "7be6b39f-b312-421d-ab50-9f7cd7451081",
   "metadata": {},
   "outputs": [
    {
     "data": {
      "text/plain": [
       "True"
      ]
     },
     "execution_count": 31,
     "metadata": {},
     "output_type": "execute_result"
    }
   ],
   "source": [
    "num1.isdigit()"
   ]
  },
  {
   "cell_type": "code",
   "execution_count": 33,
   "id": "8cbbccbc-5dcf-4452-8a36-c1ade3544843",
   "metadata": {},
   "outputs": [
    {
     "data": {
      "text/plain": [
       "'123'"
      ]
     },
     "execution_count": 33,
     "metadata": {},
     "output_type": "execute_result"
    }
   ],
   "source": [
    "num1"
   ]
  },
  {
   "cell_type": "code",
   "execution_count": 35,
   "id": "36405bf3-6dc6-4d9d-997b-965ce3e527aa",
   "metadata": {},
   "outputs": [
    {
     "data": {
      "text/plain": [
       "'49'"
      ]
     },
     "execution_count": 35,
     "metadata": {},
     "output_type": "execute_result"
    }
   ],
   "source": [
    "num2"
   ]
  },
  {
   "cell_type": "code",
   "execution_count": 45,
   "id": "df95f6f5-51bf-4e18-9794-d9f5fb11df1c",
   "metadata": {},
   "outputs": [],
   "source": [
    "width = max(len(num1), len(num2)) + 2"
   ]
  },
  {
   "cell_type": "code",
   "execution_count": 47,
   "id": "4560557b-7449-427e-b1a8-1448223be45f",
   "metadata": {},
   "outputs": [
    {
     "data": {
      "text/plain": [
       "5"
      ]
     },
     "execution_count": 47,
     "metadata": {},
     "output_type": "execute_result"
    }
   ],
   "source": [
    "width"
   ]
  },
  {
   "cell_type": "code",
   "execution_count": 59,
   "id": "993ce89a-ae3d-4318-bfea-d7818e4dcf5d",
   "metadata": {},
   "outputs": [
    {
     "name": "stdout",
     "output_type": "stream",
     "text": [
      "  123\n",
      "+  49\n",
      "-----\n"
     ]
    }
   ],
   "source": [
    "print(num1.rjust(width))\n",
    "print('+ ' + num2.rjust(width-2))\n",
    "print(\"-\"*width)"
   ]
  },
  {
   "cell_type": "code",
   "execution_count": 146,
   "id": "1d0d2af6-32b1-4354-9d70-5d3d1dc18847",
   "metadata": {},
   "outputs": [],
   "source": [
    "top_line = []\n",
    "bottom_line = []\n",
    "dash_line = []\n",
    "result_line = []"
   ]
  },
  {
   "cell_type": "code",
   "execution_count": 12,
   "id": "3826bcc8-be37-4ef5-aaac-4003092a1ef8",
   "metadata": {},
   "outputs": [],
   "source": [
    "problem = \"11 + 4\""
   ]
  },
  {
   "cell_type": "code",
   "execution_count": 16,
   "id": "92027a3c-63df-4986-b5d9-3f63c82547ad",
   "metadata": {},
   "outputs": [],
   "source": [
    "parts = problem.split()"
   ]
  },
  {
   "cell_type": "code",
   "execution_count": 75,
   "id": "ec181854-005a-4a7a-a482-b07cdec1b073",
   "metadata": {},
   "outputs": [
    {
     "data": {
      "text/plain": [
       "['11', '+', '4']"
      ]
     },
     "execution_count": 75,
     "metadata": {},
     "output_type": "execute_result"
    }
   ],
   "source": [
    "parts"
   ]
  },
  {
   "cell_type": "code",
   "execution_count": 77,
   "id": "323fcf36-479d-40c8-b0d4-a9ee9edc1c30",
   "metadata": {},
   "outputs": [],
   "source": [
    "num1, operator, num2 = parts"
   ]
  },
  {
   "cell_type": "code",
   "execution_count": 79,
   "id": "4bbb8fc7-d78c-4415-b99d-cd800cd89bce",
   "metadata": {},
   "outputs": [
    {
     "data": {
      "text/plain": [
       "'11'"
      ]
     },
     "execution_count": 79,
     "metadata": {},
     "output_type": "execute_result"
    }
   ],
   "source": [
    "num1"
   ]
  },
  {
   "cell_type": "code",
   "execution_count": 81,
   "id": "92affef6-90dd-4e89-8640-6deec9555b01",
   "metadata": {},
   "outputs": [
    {
     "data": {
      "text/plain": [
       "'+'"
      ]
     },
     "execution_count": 81,
     "metadata": {},
     "output_type": "execute_result"
    }
   ],
   "source": [
    "operator"
   ]
  },
  {
   "cell_type": "code",
   "execution_count": 83,
   "id": "4d0bc0a8-2a46-4714-bb62-8e27a2f7ca9f",
   "metadata": {},
   "outputs": [
    {
     "data": {
      "text/plain": [
       "'4'"
      ]
     },
     "execution_count": 83,
     "metadata": {},
     "output_type": "execute_result"
    }
   ],
   "source": [
    "num2"
   ]
  },
  {
   "cell_type": "code",
   "execution_count": 20,
   "id": "ad3b5ff8-1cea-41c5-9c3c-457c677858f5",
   "metadata": {},
   "outputs": [
    {
     "data": {
      "text/plain": [
       "'11'"
      ]
     },
     "execution_count": 20,
     "metadata": {},
     "output_type": "execute_result"
    }
   ],
   "source": [
    "parts[0]"
   ]
  },
  {
   "cell_type": "code",
   "execution_count": 22,
   "id": "0ced3297-78e0-4867-8591-bb78d870fb46",
   "metadata": {},
   "outputs": [
    {
     "data": {
      "text/plain": [
       "'+'"
      ]
     },
     "execution_count": 22,
     "metadata": {},
     "output_type": "execute_result"
    }
   ],
   "source": [
    "parts[1]"
   ]
  },
  {
   "cell_type": "code",
   "execution_count": 24,
   "id": "7c371f70-966b-47d6-841c-7b2c3f004afc",
   "metadata": {},
   "outputs": [
    {
     "data": {
      "text/plain": [
       "'4'"
      ]
     },
     "execution_count": 24,
     "metadata": {},
     "output_type": "execute_result"
    }
   ],
   "source": [
    "parts[2]"
   ]
  },
  {
   "cell_type": "code",
   "execution_count": 27,
   "id": "323864b4-f61e-4c6f-902b-8531119b4f7e",
   "metadata": {},
   "outputs": [
    {
     "data": {
      "text/plain": [
       "3"
      ]
     },
     "execution_count": 27,
     "metadata": {},
     "output_type": "execute_result"
    }
   ],
   "source": [
    "len(parts)"
   ]
  },
  {
   "cell_type": "code",
   "execution_count": 30,
   "id": "42668356-ee99-4643-a1aa-c8b348b4176d",
   "metadata": {},
   "outputs": [],
   "source": [
    "operators = ['+', '-']"
   ]
  },
  {
   "cell_type": "code",
   "execution_count": 32,
   "id": "bb951c1d-6535-4782-908f-5bfceb1a94ea",
   "metadata": {},
   "outputs": [
    {
     "data": {
      "text/plain": [
       "False"
      ]
     },
     "execution_count": 32,
     "metadata": {},
     "output_type": "execute_result"
    }
   ],
   "source": [
    "'*' in operators"
   ]
  },
  {
   "cell_type": "code",
   "execution_count": 34,
   "id": "58f63b0d-7537-4e34-a001-7de5390098f7",
   "metadata": {},
   "outputs": [
    {
     "data": {
      "text/plain": [
       "True"
      ]
     },
     "execution_count": 34,
     "metadata": {},
     "output_type": "execute_result"
    }
   ],
   "source": [
    "\"+\" in operators"
   ]
  },
  {
   "cell_type": "code",
   "execution_count": 37,
   "id": "f2ee1a1f-e300-4c10-82ed-b82990070e96",
   "metadata": {},
   "outputs": [
    {
     "data": {
      "text/plain": [
       "False"
      ]
     },
     "execution_count": 37,
     "metadata": {},
     "output_type": "execute_result"
    }
   ],
   "source": [
    "'er'.isdigit()"
   ]
  },
  {
   "cell_type": "code",
   "execution_count": 41,
   "id": "c8e7060b-730c-4d86-8bc8-7af491fd158f",
   "metadata": {},
   "outputs": [
    {
     "data": {
      "text/plain": [
       "str"
      ]
     },
     "execution_count": 41,
     "metadata": {},
     "output_type": "execute_result"
    }
   ],
   "source": [
    "type('1')"
   ]
  },
  {
   "cell_type": "code",
   "execution_count": 43,
   "id": "6dc7d7f3-d69e-4a15-ac30-1b6438933e37",
   "metadata": {},
   "outputs": [
    {
     "data": {
      "text/plain": [
       "True"
      ]
     },
     "execution_count": 43,
     "metadata": {},
     "output_type": "execute_result"
    }
   ],
   "source": [
    "\"1\".isdigit()"
   ]
  },
  {
   "cell_type": "code",
   "execution_count": 45,
   "id": "a36257f4-9dd4-4a50-b593-bf48bec6c64b",
   "metadata": {},
   "outputs": [
    {
     "data": {
      "text/plain": [
       "False"
      ]
     },
     "execution_count": 45,
     "metadata": {},
     "output_type": "execute_result"
    }
   ],
   "source": [
    "\"11e\".isdigit()"
   ]
  },
  {
   "cell_type": "code",
   "execution_count": 56,
   "id": "16906582-6c0f-4527-9fa2-aa26cdba5dc4",
   "metadata": {},
   "outputs": [],
   "source": [
    "a = \"1a\""
   ]
  },
  {
   "cell_type": "code",
   "execution_count": 58,
   "id": "7f657d54-72c2-47c9-80ef-6f4aeed02d8f",
   "metadata": {},
   "outputs": [
    {
     "data": {
      "text/plain": [
       "str"
      ]
     },
     "execution_count": 58,
     "metadata": {},
     "output_type": "execute_result"
    }
   ],
   "source": [
    "type(a)"
   ]
  },
  {
   "cell_type": "code",
   "execution_count": 60,
   "id": "f9cb65f7-85a9-4430-80e9-c3727c2c5305",
   "metadata": {},
   "outputs": [
    {
     "ename": "ValueError",
     "evalue": "invalid literal for int() with base 10: '1a'",
     "output_type": "error",
     "traceback": [
      "\u001b[0;31m---------------------------------------------------------------------------\u001b[0m",
      "\u001b[0;31mValueError\u001b[0m                                Traceback (most recent call last)",
      "Cell \u001b[0;32mIn[60], line 1\u001b[0m\n\u001b[0;32m----> 1\u001b[0m \u001b[38;5;28mint\u001b[39m(a)\n",
      "\u001b[0;31mValueError\u001b[0m: invalid literal for int() with base 10: '1a'"
     ]
    }
   ],
   "source": [
    "int(a)"
   ]
  },
  {
   "cell_type": "code",
   "execution_count": 64,
   "id": "f48f8a38-08c3-43c0-a4a1-a155321f89e2",
   "metadata": {},
   "outputs": [
    {
     "data": {
      "text/plain": [
       "'11 + 4'"
      ]
     },
     "execution_count": 64,
     "metadata": {},
     "output_type": "execute_result"
    }
   ],
   "source": [
    "problem"
   ]
  },
  {
   "cell_type": "code",
   "execution_count": 67,
   "id": "379b0acf-1a51-4572-803c-dda979851dd5",
   "metadata": {},
   "outputs": [],
   "source": [
    "a = ' 32'\n",
    "b = '658'"
   ]
  },
  {
   "cell_type": "code",
   "execution_count": 69,
   "id": "c5ed6bb8-b78c-4755-b077-3d2993498e6f",
   "metadata": {},
   "outputs": [
    {
     "data": {
      "text/plain": [
       "3"
      ]
     },
     "execution_count": 69,
     "metadata": {},
     "output_type": "execute_result"
    }
   ],
   "source": [
    "len(a)"
   ]
  },
  {
   "cell_type": "code",
   "execution_count": 73,
   "id": "ac7c9508-4ce4-4b3c-aaab-592d6f5c7f37",
   "metadata": {},
   "outputs": [
    {
     "data": {
      "text/plain": [
       "3"
      ]
     },
     "execution_count": 73,
     "metadata": {},
     "output_type": "execute_result"
    }
   ],
   "source": [
    "len(b)"
   ]
  },
  {
   "cell_type": "code",
   "execution_count": 85,
   "id": "5d6073e8-ec56-4133-993e-22efd6b74b3f",
   "metadata": {},
   "outputs": [
    {
     "data": {
      "text/plain": [
       "2"
      ]
     },
     "execution_count": 85,
     "metadata": {},
     "output_type": "execute_result"
    }
   ],
   "source": [
    "len(num1)"
   ]
  },
  {
   "cell_type": "code",
   "execution_count": 87,
   "id": "de626199-ea14-4cf4-989f-2923d41db997",
   "metadata": {},
   "outputs": [
    {
     "data": {
      "text/plain": [
       "1"
      ]
     },
     "execution_count": 87,
     "metadata": {},
     "output_type": "execute_result"
    }
   ],
   "source": [
    "len(operator)"
   ]
  },
  {
   "cell_type": "code",
   "execution_count": 89,
   "id": "56d5c6ae-0214-4ff3-81b0-85d79ec77849",
   "metadata": {},
   "outputs": [
    {
     "data": {
      "text/plain": [
       "1"
      ]
     },
     "execution_count": 89,
     "metadata": {},
     "output_type": "execute_result"
    }
   ],
   "source": [
    "len(num2)"
   ]
  },
  {
   "cell_type": "code",
   "execution_count": 91,
   "id": "0cac2792-78c1-4ca3-841d-23e91d10200b",
   "metadata": {},
   "outputs": [],
   "source": [
    "x = 25\n",
    "y = 30"
   ]
  },
  {
   "cell_type": "code",
   "execution_count": 93,
   "id": "1749c0f9-c367-44c4-9dfe-58024189ce5c",
   "metadata": {},
   "outputs": [
    {
     "data": {
      "text/plain": [
       "30"
      ]
     },
     "execution_count": 93,
     "metadata": {},
     "output_type": "execute_result"
    }
   ],
   "source": [
    "max(x,y)"
   ]
  },
  {
   "cell_type": "code",
   "execution_count": 100,
   "id": "02a4993b-91e6-4356-ad65-a4debf6c3311",
   "metadata": {},
   "outputs": [],
   "source": [
    "width = max(len(num1), len(num2))+2"
   ]
  },
  {
   "cell_type": "code",
   "execution_count": 102,
   "id": "7a2e1f02-5e67-479a-a95b-abe6c8672bdb",
   "metadata": {},
   "outputs": [
    {
     "data": {
      "text/plain": [
       "4"
      ]
     },
     "execution_count": 102,
     "metadata": {},
     "output_type": "execute_result"
    }
   ],
   "source": [
    "width"
   ]
  },
  {
   "cell_type": "code",
   "execution_count": 105,
   "id": "3c8fb089-3a8a-4235-85c9-0b7cc1c3733a",
   "metadata": {},
   "outputs": [
    {
     "data": {
      "text/plain": [
       "[]"
      ]
     },
     "execution_count": 105,
     "metadata": {},
     "output_type": "execute_result"
    }
   ],
   "source": [
    "top_line"
   ]
  },
  {
   "cell_type": "code",
   "execution_count": 113,
   "id": "04ac4bd0-910c-4f37-be97-3d1cabf360a4",
   "metadata": {},
   "outputs": [
    {
     "data": {
      "text/plain": [
       "'             11'"
      ]
     },
     "execution_count": 113,
     "metadata": {},
     "output_type": "execute_result"
    }
   ],
   "source": [
    "num1.rjust(15)"
   ]
  },
  {
   "cell_type": "code",
   "execution_count": 148,
   "id": "a84b9415-e5ed-4845-a5d4-5daa89b44b60",
   "metadata": {},
   "outputs": [],
   "source": [
    "top_line.append(num1.rjust(width))"
   ]
  },
  {
   "cell_type": "code",
   "execution_count": 150,
   "id": "48322c5a-df39-4d1b-b9cc-e044a726e965",
   "metadata": {},
   "outputs": [
    {
     "data": {
      "text/plain": [
       "4"
      ]
     },
     "execution_count": 150,
     "metadata": {},
     "output_type": "execute_result"
    }
   ],
   "source": [
    "len(operator + num2.rjust(width-1))"
   ]
  },
  {
   "cell_type": "code",
   "execution_count": 152,
   "id": "4194b1d5-850e-4839-8086-877d7ebb1b24",
   "metadata": {},
   "outputs": [],
   "source": [
    "bottom_line.append(operator + num2.rjust(width-1))"
   ]
  },
  {
   "cell_type": "code",
   "execution_count": 154,
   "id": "1ebecfe1-b6b7-4ddd-a112-dded1ade2cf7",
   "metadata": {},
   "outputs": [
    {
     "data": {
      "text/plain": [
       "['  11']"
      ]
     },
     "execution_count": 154,
     "metadata": {},
     "output_type": "execute_result"
    }
   ],
   "source": [
    "top_line"
   ]
  },
  {
   "cell_type": "code",
   "execution_count": 156,
   "id": "78e432a5-e6c1-4ee9-8289-0d31c037d338",
   "metadata": {},
   "outputs": [
    {
     "data": {
      "text/plain": [
       "['+  4']"
      ]
     },
     "execution_count": 156,
     "metadata": {},
     "output_type": "execute_result"
    }
   ],
   "source": [
    "bottom_line"
   ]
  },
  {
   "cell_type": "code",
   "execution_count": 158,
   "id": "1757b017-b346-47e5-8761-f2e58fc07f3e",
   "metadata": {},
   "outputs": [
    {
     "data": {
      "text/plain": [
       "4"
      ]
     },
     "execution_count": 158,
     "metadata": {},
     "output_type": "execute_result"
    }
   ],
   "source": [
    "len(bottom_line[0])"
   ]
  },
  {
   "cell_type": "code",
   "execution_count": 162,
   "id": "b141a8a9-66d3-40a6-bf65-ac652a33fbf6",
   "metadata": {},
   "outputs": [],
   "source": [
    "dash_line.append('-'*width)"
   ]
  },
  {
   "cell_type": "code",
   "execution_count": 164,
   "id": "4c92ca1a-8831-4704-ae9d-31d6134ed788",
   "metadata": {},
   "outputs": [
    {
     "data": {
      "text/plain": [
       "['----']"
      ]
     },
     "execution_count": 164,
     "metadata": {},
     "output_type": "execute_result"
    }
   ],
   "source": [
    "dash_line"
   ]
  },
  {
   "cell_type": "code",
   "execution_count": 167,
   "id": "579b71b3-d402-4d9d-963b-5b4e15fbab1d",
   "metadata": {},
   "outputs": [],
   "source": [
    "display_answer = False"
   ]
  },
  {
   "cell_type": "code",
   "execution_count": 169,
   "id": "945e31dc-6644-403f-8eb8-11fc59f96dd9",
   "metadata": {},
   "outputs": [
    {
     "data": {
      "text/plain": [
       "False"
      ]
     },
     "execution_count": 169,
     "metadata": {},
     "output_type": "execute_result"
    }
   ],
   "source": [
    "display_answer"
   ]
  },
  {
   "cell_type": "code",
   "execution_count": 176,
   "id": "5763880c-0391-4898-b78a-9751bf0934d9",
   "metadata": {},
   "outputs": [],
   "source": [
    "arranged_problems = \"    \".join(top_line)"
   ]
  },
  {
   "cell_type": "code",
   "execution_count": 178,
   "id": "8b77da9f-977d-461a-b6d7-222a5906b8d2",
   "metadata": {},
   "outputs": [
    {
     "data": {
      "text/plain": [
       "'  11'"
      ]
     },
     "execution_count": 178,
     "metadata": {},
     "output_type": "execute_result"
    }
   ],
   "source": [
    "arranged_problems"
   ]
  },
  {
   "cell_type": "code",
   "execution_count": 193,
   "id": "36db3ab1-d762-44c2-b7d8-8dd55c0cb2b8",
   "metadata": {},
   "outputs": [],
   "source": [
    "result = str(int(num1) + int(num2))"
   ]
  },
  {
   "cell_type": "code",
   "execution_count": 195,
   "id": "108870d3-d46b-49ca-8ff4-f00fecb0d268",
   "metadata": {},
   "outputs": [],
   "source": [
    "a = num1.rjust(width)\n",
    "b = operator + num2.rjust(width-1)\n",
    "c = \"-\"*width\n",
    "d = result.rjust(width)"
   ]
  },
  {
   "cell_type": "code",
   "execution_count": 203,
   "id": "98146e1e-4e8a-45ba-ad1d-a0e3322f2712",
   "metadata": {},
   "outputs": [],
   "source": [
    "arranged = a + \"\\n\" + b + \"\\n\" + c + \"\\n\" + d"
   ]
  },
  {
   "cell_type": "code",
   "execution_count": 205,
   "id": "2c8bd42a-874f-481f-b2de-7f3c4cf43409",
   "metadata": {},
   "outputs": [
    {
     "name": "stdout",
     "output_type": "stream",
     "text": [
      "  11\n",
      "+  4\n",
      "----\n",
      "  15\n"
     ]
    }
   ],
   "source": [
    "print(arranged)"
   ]
  },
  {
   "cell_type": "code",
   "execution_count": 209,
   "id": "c780c4a6-0e17-4652-a982-71f9ecf0ef3f",
   "metadata": {},
   "outputs": [],
   "source": [
    "problems = [\"11 + 4\", \"3801 - 2999\", \"1 + 2\", \"123 + 49\", \"1 - 9380\"]"
   ]
  },
  {
   "cell_type": "code",
   "execution_count": 211,
   "id": "06bfac8d-f396-4d3b-a4a1-9c8989eff03a",
   "metadata": {},
   "outputs": [],
   "source": [
    "problem = problems[0]"
   ]
  },
  {
   "cell_type": "code",
   "execution_count": 213,
   "id": "1c35269a-2c10-4dbd-834c-c0e30e28ea68",
   "metadata": {},
   "outputs": [
    {
     "data": {
      "text/plain": [
       "'11 + 4'"
      ]
     },
     "execution_count": 213,
     "metadata": {},
     "output_type": "execute_result"
    }
   ],
   "source": [
    "problem"
   ]
  },
  {
   "cell_type": "code",
   "execution_count": 217,
   "id": "7284574c-8214-4471-be69-8a40e69def8f",
   "metadata": {},
   "outputs": [
    {
     "name": "stdout",
     "output_type": "stream",
     "text": [
      "11 + 4\n",
      "3801 - 2999\n",
      "1 + 2\n",
      "123 + 49\n",
      "1 - 9380\n"
     ]
    }
   ],
   "source": [
    "for problem in problems:\n",
    "    print(problem)"
   ]
  },
  {
   "cell_type": "code",
   "execution_count": null,
   "id": "d5c95025-633c-443b-ba59-e58d008fb2e1",
   "metadata": {},
   "outputs": [],
   "source": [
    "def arithmetic_arranger(problems, display_answer):\n",
    "    "
   ]
  }
 ],
 "metadata": {
  "kernelspec": {
   "display_name": "Python 3 (ipykernel)",
   "language": "python",
   "name": "python3"
  },
  "language_info": {
   "codemirror_mode": {
    "name": "ipython",
    "version": 3
   },
   "file_extension": ".py",
   "mimetype": "text/x-python",
   "name": "python",
   "nbconvert_exporter": "python",
   "pygments_lexer": "ipython3",
   "version": "3.12.4"
  }
 },
 "nbformat": 4,
 "nbformat_minor": 5
}
