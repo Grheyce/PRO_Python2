{
 "cells": [
  {
   "cell_type": "code",
   "execution_count": 15,
   "id": "416b863f-8004-4b95-8a65-a31fcfe86998",
   "metadata": {},
   "outputs": [],
   "source": [
    "problems = [\"32 + 698\", \"3801 - 2\", \"45 + 43\", \"123 + 49\"]"
   ]
  },
  {
   "cell_type": "code",
   "execution_count": 17,
   "id": "b863f6fe-9faa-4658-ad62-8e0da4526af9",
   "metadata": {},
   "outputs": [],
   "source": [
    "for problem in problems:\n",
    "    parts = problem.split()\n",
    "    if len(parts) != 3:\n",
    "        print(\"Error: Invalid problem format.\")"
   ]
  },
  {
   "cell_type": "code",
   "execution_count": 19,
   "id": "ff086a72-d702-43da-962b-622c95fe7802",
   "metadata": {},
   "outputs": [
    {
     "data": {
      "text/plain": [
       "['123', '+', '49']"
      ]
     },
     "execution_count": 19,
     "metadata": {},
     "output_type": "execute_result"
    }
   ],
   "source": [
    "parts"
   ]
  },
  {
   "cell_type": "code",
   "execution_count": 21,
   "id": "61a0c98a-582e-4cf7-a447-79adba4cbfb0",
   "metadata": {},
   "outputs": [],
   "source": [
    "num1, operator, num2 = parts"
   ]
  },
  {
   "cell_type": "code",
   "execution_count": 23,
   "id": "180da31a-1348-45c8-80a3-3fdd9af3ed69",
   "metadata": {},
   "outputs": [
    {
     "data": {
      "text/plain": [
       "'123'"
      ]
     },
     "execution_count": 23,
     "metadata": {},
     "output_type": "execute_result"
    }
   ],
   "source": [
    "num1"
   ]
  },
  {
   "cell_type": "code",
   "execution_count": 25,
   "id": "2b15d921-33f2-47a8-aa20-3e804edc3b65",
   "metadata": {},
   "outputs": [
    {
     "data": {
      "text/plain": [
       "'49'"
      ]
     },
     "execution_count": 25,
     "metadata": {},
     "output_type": "execute_result"
    }
   ],
   "source": [
    "num2"
   ]
  },
  {
   "cell_type": "code",
   "execution_count": 27,
   "id": "fd6c8714-8949-419c-85e4-33ab283750ae",
   "metadata": {},
   "outputs": [
    {
     "data": {
      "text/plain": [
       "'+'"
      ]
     },
     "execution_count": 27,
     "metadata": {},
     "output_type": "execute_result"
    }
   ],
   "source": [
    "operator"
   ]
  },
  {
   "cell_type": "code",
   "execution_count": 29,
   "id": "eea93104-cafa-4669-8074-0b80c7ee27e1",
   "metadata": {},
   "outputs": [
    {
     "data": {
      "text/plain": [
       "True"
      ]
     },
     "execution_count": 29,
     "metadata": {},
     "output_type": "execute_result"
    }
   ],
   "source": [
    "operator in ['+', '-']"
   ]
  },
  {
   "cell_type": "code",
   "execution_count": 31,
   "id": "7be6b39f-b312-421d-ab50-9f7cd7451081",
   "metadata": {},
   "outputs": [
    {
     "data": {
      "text/plain": [
       "True"
      ]
     },
     "execution_count": 31,
     "metadata": {},
     "output_type": "execute_result"
    }
   ],
   "source": [
    "num1.isdigit()"
   ]
  },
  {
   "cell_type": "code",
   "execution_count": 33,
   "id": "8cbbccbc-5dcf-4452-8a36-c1ade3544843",
   "metadata": {},
   "outputs": [
    {
     "data": {
      "text/plain": [
       "'123'"
      ]
     },
     "execution_count": 33,
     "metadata": {},
     "output_type": "execute_result"
    }
   ],
   "source": [
    "num1"
   ]
  },
  {
   "cell_type": "code",
   "execution_count": 35,
   "id": "36405bf3-6dc6-4d9d-997b-965ce3e527aa",
   "metadata": {},
   "outputs": [
    {
     "data": {
      "text/plain": [
       "'49'"
      ]
     },
     "execution_count": 35,
     "metadata": {},
     "output_type": "execute_result"
    }
   ],
   "source": [
    "num2"
   ]
  },
  {
   "cell_type": "code",
   "execution_count": 45,
   "id": "df95f6f5-51bf-4e18-9794-d9f5fb11df1c",
   "metadata": {},
   "outputs": [],
   "source": [
    "width = max(len(num1), len(num2)) + 2"
   ]
  },
  {
   "cell_type": "code",
   "execution_count": 47,
   "id": "4560557b-7449-427e-b1a8-1448223be45f",
   "metadata": {},
   "outputs": [
    {
     "data": {
      "text/plain": [
       "5"
      ]
     },
     "execution_count": 47,
     "metadata": {},
     "output_type": "execute_result"
    }
   ],
   "source": [
    "width"
   ]
  },
  {
   "cell_type": "code",
   "execution_count": 59,
   "id": "993ce89a-ae3d-4318-bfea-d7818e4dcf5d",
   "metadata": {},
   "outputs": [
    {
     "name": "stdout",
     "output_type": "stream",
     "text": [
      "  123\n",
      "+  49\n",
      "-----\n"
     ]
    }
   ],
   "source": [
    "print(num1.rjust(width))\n",
    "print('+ ' + num2.rjust(width-2))\n",
    "print(\"-\"*width)"
   ]
  },
  {
   "cell_type": "code",
   "execution_count": null,
   "id": "1d0d2af6-32b1-4354-9d70-5d3d1dc18847",
   "metadata": {},
   "outputs": [],
   "source": []
  }
 ],
 "metadata": {
  "kernelspec": {
   "display_name": "Python 3 (ipykernel)",
   "language": "python",
   "name": "python3"
  },
  "language_info": {
   "codemirror_mode": {
    "name": "ipython",
    "version": 3
   },
   "file_extension": ".py",
   "mimetype": "text/x-python",
   "name": "python",
   "nbconvert_exporter": "python",
   "pygments_lexer": "ipython3",
   "version": "3.12.4"
  }
 },
 "nbformat": 4,
 "nbformat_minor": 5
}
