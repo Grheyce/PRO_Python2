{
 "cells": [
  {
   "cell_type": "code",
   "execution_count": 2,
   "id": "8d98c142-9621-46ed-a026-b104c388eaa1",
   "metadata": {},
   "outputs": [],
   "source": [
    "import pandas as pd"
   ]
  },
  {
   "cell_type": "code",
   "execution_count": 10,
   "id": "3defb4d0-2e2c-498a-8da4-85a3471509b9",
   "metadata": {},
   "outputs": [],
   "source": [
    "items = [\"item1\", \"itemm2\", \"item3\", \"item4\"]"
   ]
  },
  {
   "cell_type": "code",
   "execution_count": 17,
   "id": "a3dc8b1e-a629-45be-95db-7ad55b3515bf",
   "metadata": {},
   "outputs": [],
   "source": [
    "stores = {\n",
    "    \"store1\": pd.Series(data = [3000, 6000, 200, 250, 160], index = [\"soap\", \"tomato ketchup\", \"hypo\", \"indomie\", \"yoghurt\"]),\n",
    "    \"store2\": pd.Series(data = [500, 1500, 2000, 800, 210, 4500, 2500, 1000], index = [\"margarine\", \"roll on\", \"polish\", \"milk\", \"hypo\", \"olive oil\", \"soap\", \"toothpaste\"]),\n",
    "    \"store3\": pd.Series(data = [1890, 500, 900, 1000, 3500, 1900, 3000], index = [\"pad\", \"toileteries\", \"milk\", \"snacks\", \"perfume\", \"polish\", \"cream\"]),\n",
    "}"
   ]
  },
  {
   "cell_type": "code",
   "execution_count": 19,
   "id": "3cc7ccc5-724d-453a-92b1-c524e7d7ae5f",
   "metadata": {},
   "outputs": [
    {
     "data": {
      "text/plain": [
       "{'store1': soap              3000\n",
       " tomato ketchup    6000\n",
       " hypo               200\n",
       " indomie            250\n",
       " yoghurt            160\n",
       " dtype: int64,\n",
       " 'store2': margarine      500\n",
       " roll on       1500\n",
       " polish        2000\n",
       " milk           800\n",
       " hypo           210\n",
       " olive oil     4500\n",
       " soap          2500\n",
       " toothpaste    1000\n",
       " dtype: int64,\n",
       " 'store3': pad            1890\n",
       " toileteries     500\n",
       " milk            900\n",
       " snacks         1000\n",
       " perfume        3500\n",
       " polish         1900\n",
       " cream          3000\n",
       " dtype: int64}"
      ]
     },
     "execution_count": 19,
     "metadata": {},
     "output_type": "execute_result"
    }
   ],
   "source": [
    "stores"
   ]
  },
  {
   "cell_type": "code",
   "execution_count": 21,
   "id": "276cc889-353a-4254-8c77-c289acade524",
   "metadata": {},
   "outputs": [],
   "source": [
    "df = pd.DataFrame(stores)"
   ]
  },
  {
   "cell_type": "code",
   "execution_count": 23,
   "id": "3c08b416-1168-478c-875c-bf9ea48ff172",
   "metadata": {},
   "outputs": [
    {
     "data": {
      "text/html": [
       "<div>\n",
       "<style scoped>\n",
       "    .dataframe tbody tr th:only-of-type {\n",
       "        vertical-align: middle;\n",
       "    }\n",
       "\n",
       "    .dataframe tbody tr th {\n",
       "        vertical-align: top;\n",
       "    }\n",
       "\n",
       "    .dataframe thead th {\n",
       "        text-align: right;\n",
       "    }\n",
       "</style>\n",
       "<table border=\"1\" class=\"dataframe\">\n",
       "  <thead>\n",
       "    <tr style=\"text-align: right;\">\n",
       "      <th></th>\n",
       "      <th>store1</th>\n",
       "      <th>store2</th>\n",
       "      <th>store3</th>\n",
       "    </tr>\n",
       "  </thead>\n",
       "  <tbody>\n",
       "    <tr>\n",
       "      <th>cream</th>\n",
       "      <td>NaN</td>\n",
       "      <td>NaN</td>\n",
       "      <td>3000.0</td>\n",
       "    </tr>\n",
       "    <tr>\n",
       "      <th>hypo</th>\n",
       "      <td>200.0</td>\n",
       "      <td>210.0</td>\n",
       "      <td>NaN</td>\n",
       "    </tr>\n",
       "    <tr>\n",
       "      <th>indomie</th>\n",
       "      <td>250.0</td>\n",
       "      <td>NaN</td>\n",
       "      <td>NaN</td>\n",
       "    </tr>\n",
       "    <tr>\n",
       "      <th>margarine</th>\n",
       "      <td>NaN</td>\n",
       "      <td>500.0</td>\n",
       "      <td>NaN</td>\n",
       "    </tr>\n",
       "    <tr>\n",
       "      <th>milk</th>\n",
       "      <td>NaN</td>\n",
       "      <td>800.0</td>\n",
       "      <td>900.0</td>\n",
       "    </tr>\n",
       "    <tr>\n",
       "      <th>olive oil</th>\n",
       "      <td>NaN</td>\n",
       "      <td>4500.0</td>\n",
       "      <td>NaN</td>\n",
       "    </tr>\n",
       "    <tr>\n",
       "      <th>pad</th>\n",
       "      <td>NaN</td>\n",
       "      <td>NaN</td>\n",
       "      <td>1890.0</td>\n",
       "    </tr>\n",
       "    <tr>\n",
       "      <th>perfume</th>\n",
       "      <td>NaN</td>\n",
       "      <td>NaN</td>\n",
       "      <td>3500.0</td>\n",
       "    </tr>\n",
       "    <tr>\n",
       "      <th>polish</th>\n",
       "      <td>NaN</td>\n",
       "      <td>2000.0</td>\n",
       "      <td>1900.0</td>\n",
       "    </tr>\n",
       "    <tr>\n",
       "      <th>roll on</th>\n",
       "      <td>NaN</td>\n",
       "      <td>1500.0</td>\n",
       "      <td>NaN</td>\n",
       "    </tr>\n",
       "    <tr>\n",
       "      <th>snacks</th>\n",
       "      <td>NaN</td>\n",
       "      <td>NaN</td>\n",
       "      <td>1000.0</td>\n",
       "    </tr>\n",
       "    <tr>\n",
       "      <th>soap</th>\n",
       "      <td>3000.0</td>\n",
       "      <td>2500.0</td>\n",
       "      <td>NaN</td>\n",
       "    </tr>\n",
       "    <tr>\n",
       "      <th>toileteries</th>\n",
       "      <td>NaN</td>\n",
       "      <td>NaN</td>\n",
       "      <td>500.0</td>\n",
       "    </tr>\n",
       "    <tr>\n",
       "      <th>tomato ketchup</th>\n",
       "      <td>6000.0</td>\n",
       "      <td>NaN</td>\n",
       "      <td>NaN</td>\n",
       "    </tr>\n",
       "    <tr>\n",
       "      <th>toothpaste</th>\n",
       "      <td>NaN</td>\n",
       "      <td>1000.0</td>\n",
       "      <td>NaN</td>\n",
       "    </tr>\n",
       "    <tr>\n",
       "      <th>yoghurt</th>\n",
       "      <td>160.0</td>\n",
       "      <td>NaN</td>\n",
       "      <td>NaN</td>\n",
       "    </tr>\n",
       "  </tbody>\n",
       "</table>\n",
       "</div>"
      ],
      "text/plain": [
       "                store1  store2  store3\n",
       "cream              NaN     NaN  3000.0\n",
       "hypo             200.0   210.0     NaN\n",
       "indomie          250.0     NaN     NaN\n",
       "margarine          NaN   500.0     NaN\n",
       "milk               NaN   800.0   900.0\n",
       "olive oil          NaN  4500.0     NaN\n",
       "pad                NaN     NaN  1890.0\n",
       "perfume            NaN     NaN  3500.0\n",
       "polish             NaN  2000.0  1900.0\n",
       "roll on            NaN  1500.0     NaN\n",
       "snacks             NaN     NaN  1000.0\n",
       "soap            3000.0  2500.0     NaN\n",
       "toileteries        NaN     NaN   500.0\n",
       "tomato ketchup  6000.0     NaN     NaN\n",
       "toothpaste         NaN  1000.0     NaN\n",
       "yoghurt          160.0     NaN     NaN"
      ]
     },
     "execution_count": 23,
     "metadata": {},
     "output_type": "execute_result"
    }
   ],
   "source": [
    "df"
   ]
  },
  {
   "cell_type": "code",
   "execution_count": null,
   "id": "321c87ed-f6dd-439e-8f77-b49fafd48fad",
   "metadata": {},
   "outputs": [],
   "source": []
  }
 ],
 "metadata": {
  "kernelspec": {
   "display_name": "Python 3 (ipykernel)",
   "language": "python",
   "name": "python3"
  },
  "language_info": {
   "codemirror_mode": {
    "name": "ipython",
    "version": 3
   },
   "file_extension": ".py",
   "mimetype": "text/x-python",
   "name": "python",
   "nbconvert_exporter": "python",
   "pygments_lexer": "ipython3",
   "version": "3.12.4"
  }
 },
 "nbformat": 4,
 "nbformat_minor": 5
}
